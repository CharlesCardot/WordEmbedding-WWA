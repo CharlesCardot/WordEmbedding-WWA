{
 "cells": [
  {
   "cell_type": "markdown",
   "metadata": {},
   "source": [
    "## Women Writing Africa, Data Mining Process\n",
    "- Convert PDF to txt document"
   ]
  },
  {
   "cell_type": "code",
   "execution_count": 1,
   "metadata": {},
   "outputs": [],
   "source": [
    "import numpy as np\n",
    "import pandas as pd\n",
    "import os\n",
    "\n",
    "import re\n",
    "\n",
    "from pathlib import Path"
   ]
  },
  {
   "cell_type": "code",
   "execution_count": 2,
   "metadata": {},
   "outputs": [],
   "source": [
    "raw_book_path = Path(\"Datasets\") / \"Women-Writing-Africa-The-Southern-Region-by-M.-J.txt\"\n",
    "with open(raw_book_path, encoding=\"utf8\") as f:\n",
    "    lines = f.readlines()"
   ]
  },
  {
   "cell_type": "code",
   "execution_count": 3,
   "metadata": {},
   "outputs": [],
   "source": [
    "# Remove \"¬\" symbols for line breaks\n",
    "lines_temp = [lines[0]]\n",
    "in_line_break = False\n",
    "for line in lines[1:]:\n",
    "\n",
    "    if in_line_break:\n",
    "        lines_temp[-1] = lines_temp[-1].replace(\"¬\\n\", \"\") + line\n",
    "    else:\n",
    "        lines_temp.append(line)\n",
    "\n",
    "    if \"¬\" in lines_temp[-1]:\n",
    "        in_line_break = True\n",
    "    else:\n",
    "        in_line_break = False\n",
    "lines = lines_temp"
   ]
  },
  {
   "cell_type": "code",
   "execution_count": 4,
   "metadata": {},
   "outputs": [],
   "source": [
    "for key, line in enumerate(lines):\n",
    "    if \"¬\" in line:\n",
    "        print(line)\n",
    "        print(key)"
   ]
  },
  {
   "cell_type": "code",
   "execution_count": 5,
   "metadata": {
    "scrolled": true
   },
   "outputs": [
    {
     "name": "stdout",
     "output_type": "stream",
     "text": [
      "['\\n', '\\n', '\\n', '\\n', '\\x0c          Anonymous, SONG OF THE AFFLICTED\\n', '                                Lesotho 1842      Sesotho\\n', '\\n', '\\n', ' Song ot the Atflicted   is a lament that tails within the nexus of traditional warfare\\n', 'in Lesotho. Departure for battle involved strengthening rituals meant to discourage\\n']\n"
     ]
    }
   ],
   "source": [
    "print(lines[0:10])"
   ]
  },
  {
   "cell_type": "code",
   "execution_count": 15,
   "metadata": {},
   "outputs": [
    {
     "name": "stdout",
     "output_type": "stream",
     "text": [
      "                                Lesotho 1842      Sesotho\n",
      "\n",
      "True\n"
     ]
    }
   ],
   "source": [
    "language_list = [\"English\", \"Sesotho\", \"Dutch\", \"German\", \"isiXhosa\", \"KhoeKhoeGowab\", \"isiZulu\",\n",
    "                 \"Xam\", \"otjiHerero\", \"Afrikaans\", \"Shangaani\", \"siSwati\", \"Setswana\", \"oshiNdonga\"\n",
    "                 \"siNdebele\", \"siNdebele\", \"chiShona\", \"Ju/’hoansi\", \"isiXhosa\", \"oshiNdonga\", \"uuKwanyama\"\n",
    "                 \"Tonga\", \"siSwati\", \"Nyemba\"]\n",
    "\n",
    "\n",
    "for i in range(len(lines)-2):\n",
    "    if lines[i-1] == \"\\n\":\n",
    "        year_check_1 = re.search(r'\\b(18[0-9][0-9]|19[0-9][0-9]|20[0-1][0-9])\\b', lines[i+1])\n",
    "        year_check_2 = re.search(r'\\b(18[0-9][0-9]|19[0-9][0-9]|20[0-1][0-9])\\b', lines[i+2])\n",
    "        \n",
    "        if year_check_1 or year_check_2:\n",
    "            for language in language_list:\n",
    "                \n",
    "            if \"\\n\" in lines[i+2:i+4] and any(x in lines[i:i+3] for x in language_list):\n",
    "                #print(lines[i:i+3])\n",
    "                2+2"
   ]
  },
  {
   "cell_type": "code",
   "execution_count": 42,
   "metadata": {},
   "outputs": [
    {
     "name": "stdout",
     "output_type": "stream",
     "text": [
      "2\f",
      "3\n"
     ]
    }
   ],
   "source": [
    "print(\"2\\x0c3\")"
   ]
  },
  {
   "cell_type": "code",
   "execution_count": null,
   "metadata": {},
   "outputs": [],
   "source": []
  }
 ],
 "metadata": {
  "kernelspec": {
   "display_name": "Python 3 (ipykernel)",
   "language": "python",
   "name": "python3"
  },
  "language_info": {
   "codemirror_mode": {
    "name": "ipython",
    "version": 3
   },
   "file_extension": ".py",
   "mimetype": "text/x-python",
   "name": "python",
   "nbconvert_exporter": "python",
   "pygments_lexer": "ipython3",
   "version": "3.9.13"
  },
  "vscode": {
   "interpreter": {
    "hash": "504af214ce0ec8b4dcf81a313aaf26846f6496a03b9a2d2492e6c44e02d67ec3"
   }
  }
 },
 "nbformat": 4,
 "nbformat_minor": 2
}
