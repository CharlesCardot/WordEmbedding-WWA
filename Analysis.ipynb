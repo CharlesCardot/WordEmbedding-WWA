{
 "cells": [
  {
   "attachments": {},
   "cell_type": "markdown",
   "metadata": {},
   "source": [
    "### Using pre-trained model with spacy"
   ]
  },
  {
   "cell_type": "code",
   "execution_count": 6,
   "metadata": {},
   "outputs": [],
   "source": [
    "import numpy as np\n",
    "import pandas as pd"
   ]
  },
  {
   "cell_type": "code",
   "execution_count": 7,
   "metadata": {},
   "outputs": [
    {
     "name": "stdout",
     "output_type": "stream",
     "text": [
      "Molly ate a donut\n",
      "Molly ate a fish\n",
      "Jen consumed a carp\n",
      "Lenny fears the lions\n"
     ]
    }
   ],
   "source": [
    "sentences = [\n",
    "    'Molly ate a donut',\n",
    "    'Molly ate a fish',\n",
    "    'Jen consumed a carp',\n",
    "    'Lenny fears the lions'\n",
    "]\n",
    "\n",
    "print('\\n'.join(sentences))"
   ]
  },
  {
   "cell_type": "code",
   "execution_count": 8,
   "metadata": {},
   "outputs": [
    {
     "data": {
      "text/html": [
       "<div>\n",
       "<style scoped>\n",
       "    .dataframe tbody tr th:only-of-type {\n",
       "        vertical-align: middle;\n",
       "    }\n",
       "\n",
       "    .dataframe tbody tr th {\n",
       "        vertical-align: top;\n",
       "    }\n",
       "\n",
       "    .dataframe thead th {\n",
       "        text-align: right;\n",
       "    }\n",
       "</style>\n",
       "<table border=\"1\" class=\"dataframe\">\n",
       "  <thead>\n",
       "    <tr style=\"text-align: right;\">\n",
       "      <th></th>\n",
       "      <th>ate</th>\n",
       "      <th>carp</th>\n",
       "      <th>consumed</th>\n",
       "      <th>donut</th>\n",
       "      <th>fears</th>\n",
       "      <th>fish</th>\n",
       "      <th>jen</th>\n",
       "      <th>lenny</th>\n",
       "      <th>lions</th>\n",
       "      <th>molly</th>\n",
       "      <th>the</th>\n",
       "    </tr>\n",
       "  </thead>\n",
       "  <tbody>\n",
       "    <tr>\n",
       "      <th>Molly ate a donut</th>\n",
       "      <td>1</td>\n",
       "      <td>0</td>\n",
       "      <td>0</td>\n",
       "      <td>1</td>\n",
       "      <td>0</td>\n",
       "      <td>0</td>\n",
       "      <td>0</td>\n",
       "      <td>0</td>\n",
       "      <td>0</td>\n",
       "      <td>1</td>\n",
       "      <td>0</td>\n",
       "    </tr>\n",
       "    <tr>\n",
       "      <th>Molly ate a fish</th>\n",
       "      <td>1</td>\n",
       "      <td>0</td>\n",
       "      <td>0</td>\n",
       "      <td>0</td>\n",
       "      <td>0</td>\n",
       "      <td>1</td>\n",
       "      <td>0</td>\n",
       "      <td>0</td>\n",
       "      <td>0</td>\n",
       "      <td>1</td>\n",
       "      <td>0</td>\n",
       "    </tr>\n",
       "    <tr>\n",
       "      <th>Jen consumed a carp</th>\n",
       "      <td>0</td>\n",
       "      <td>1</td>\n",
       "      <td>1</td>\n",
       "      <td>0</td>\n",
       "      <td>0</td>\n",
       "      <td>0</td>\n",
       "      <td>1</td>\n",
       "      <td>0</td>\n",
       "      <td>0</td>\n",
       "      <td>0</td>\n",
       "      <td>0</td>\n",
       "    </tr>\n",
       "    <tr>\n",
       "      <th>Lenny fears the lions</th>\n",
       "      <td>0</td>\n",
       "      <td>0</td>\n",
       "      <td>0</td>\n",
       "      <td>0</td>\n",
       "      <td>1</td>\n",
       "      <td>0</td>\n",
       "      <td>0</td>\n",
       "      <td>1</td>\n",
       "      <td>1</td>\n",
       "      <td>0</td>\n",
       "      <td>1</td>\n",
       "    </tr>\n",
       "  </tbody>\n",
       "</table>\n",
       "</div>"
      ],
      "text/plain": [
       "                       ate  carp  consumed  donut  fears  fish  jen  lenny  \\\n",
       "Molly ate a donut        1     0         0      1      0     0    0      0   \n",
       "Molly ate a fish         1     0         0      0      0     1    0      0   \n",
       "Jen consumed a carp      0     1         1      0      0     0    1      0   \n",
       "Lenny fears the lions    0     0         0      0      1     0    0      1   \n",
       "\n",
       "                       lions  molly  the  \n",
       "Molly ate a donut          0      1    0  \n",
       "Molly ate a fish           0      1    0  \n",
       "Jen consumed a carp        0      0    0  \n",
       "Lenny fears the lions      1      0    1  "
      ]
     },
     "execution_count": 8,
     "metadata": {},
     "output_type": "execute_result"
    }
   ],
   "source": [
    "from sklearn.feature_extraction.text import CountVectorizer \n",
    "\n",
    "vectorizer = CountVectorizer(binary=True)\n",
    "matrix = vectorizer.fit_transform(sentences)\n",
    "counts = pd.DataFrame(\n",
    "    matrix.toarray(),\n",
    "    index=sentences,\n",
    "    columns=vectorizer.get_feature_names_out())\n",
    "counts"
   ]
  },
  {
   "cell_type": "code",
   "execution_count": 11,
   "metadata": {},
   "outputs": [
    {
     "data": {
      "text/html": [
       "<style type=\"text/css\">\n",
       "#T_252eb_row0_col0, #T_252eb_row1_col1, #T_252eb_row2_col2, #T_252eb_row3_col3 {\n",
       "  background-color: #023858;\n",
       "  color: #f1f1f1;\n",
       "}\n",
       "#T_252eb_row0_col1, #T_252eb_row1_col0 {\n",
       "  background-color: #2685bb;\n",
       "  color: #f1f1f1;\n",
       "}\n",
       "#T_252eb_row0_col2, #T_252eb_row0_col3, #T_252eb_row1_col2, #T_252eb_row1_col3, #T_252eb_row2_col0, #T_252eb_row2_col1, #T_252eb_row2_col3, #T_252eb_row3_col0, #T_252eb_row3_col1, #T_252eb_row3_col2 {\n",
       "  background-color: #fff7fb;\n",
       "  color: #000000;\n",
       "}\n",
       "</style>\n",
       "<table id=\"T_252eb\">\n",
       "  <thead>\n",
       "    <tr>\n",
       "      <th class=\"blank level0\" >&nbsp;</th>\n",
       "      <th id=\"T_252eb_level0_col0\" class=\"col_heading level0 col0\" >Molly ate a donut</th>\n",
       "      <th id=\"T_252eb_level0_col1\" class=\"col_heading level0 col1\" >Molly ate a fish</th>\n",
       "      <th id=\"T_252eb_level0_col2\" class=\"col_heading level0 col2\" >Jen consumed a carp</th>\n",
       "      <th id=\"T_252eb_level0_col3\" class=\"col_heading level0 col3\" >Lenny fears the lions</th>\n",
       "    </tr>\n",
       "  </thead>\n",
       "  <tbody>\n",
       "    <tr>\n",
       "      <th id=\"T_252eb_level0_row0\" class=\"row_heading level0 row0\" >Molly ate a donut</th>\n",
       "      <td id=\"T_252eb_row0_col0\" class=\"data row0 col0\" >1.000000</td>\n",
       "      <td id=\"T_252eb_row0_col1\" class=\"data row0 col1\" >0.666667</td>\n",
       "      <td id=\"T_252eb_row0_col2\" class=\"data row0 col2\" >0.000000</td>\n",
       "      <td id=\"T_252eb_row0_col3\" class=\"data row0 col3\" >0.000000</td>\n",
       "    </tr>\n",
       "    <tr>\n",
       "      <th id=\"T_252eb_level0_row1\" class=\"row_heading level0 row1\" >Molly ate a fish</th>\n",
       "      <td id=\"T_252eb_row1_col0\" class=\"data row1 col0\" >0.666667</td>\n",
       "      <td id=\"T_252eb_row1_col1\" class=\"data row1 col1\" >1.000000</td>\n",
       "      <td id=\"T_252eb_row1_col2\" class=\"data row1 col2\" >0.000000</td>\n",
       "      <td id=\"T_252eb_row1_col3\" class=\"data row1 col3\" >0.000000</td>\n",
       "    </tr>\n",
       "    <tr>\n",
       "      <th id=\"T_252eb_level0_row2\" class=\"row_heading level0 row2\" >Jen consumed a carp</th>\n",
       "      <td id=\"T_252eb_row2_col0\" class=\"data row2 col0\" >0.000000</td>\n",
       "      <td id=\"T_252eb_row2_col1\" class=\"data row2 col1\" >0.000000</td>\n",
       "      <td id=\"T_252eb_row2_col2\" class=\"data row2 col2\" >1.000000</td>\n",
       "      <td id=\"T_252eb_row2_col3\" class=\"data row2 col3\" >0.000000</td>\n",
       "    </tr>\n",
       "    <tr>\n",
       "      <th id=\"T_252eb_level0_row3\" class=\"row_heading level0 row3\" >Lenny fears the lions</th>\n",
       "      <td id=\"T_252eb_row3_col0\" class=\"data row3 col0\" >0.000000</td>\n",
       "      <td id=\"T_252eb_row3_col1\" class=\"data row3 col1\" >0.000000</td>\n",
       "      <td id=\"T_252eb_row3_col2\" class=\"data row3 col2\" >0.000000</td>\n",
       "      <td id=\"T_252eb_row3_col3\" class=\"data row3 col3\" >1.000000</td>\n",
       "    </tr>\n",
       "  </tbody>\n",
       "</table>\n"
      ],
      "text/plain": [
       "<pandas.io.formats.style.Styler at 0x2089a203280>"
      ]
     },
     "execution_count": 11,
     "metadata": {},
     "output_type": "execute_result"
    }
   ],
   "source": [
    "from sklearn.metrics.pairwise import cosine_similarity\n",
    "\n",
    "# Compute the similarities using the word counts\n",
    "similarities = cosine_similarity(matrix)\n",
    "\n",
    "# Make a fancy colored dataframe about it\n",
    "pd.DataFrame(similarities,\n",
    "             index=sentences,\n",
    "             columns=sentences) \\\n",
    "            .style \\\n",
    "            .background_gradient(axis=None)"
   ]
  },
  {
   "cell_type": "code",
   "execution_count": 15,
   "metadata": {},
   "outputs": [],
   "source": [
    "import spacy\n",
    "\n",
    "nlp = spacy.load(\"en_core_web_sm\")"
   ]
  },
  {
   "cell_type": "code",
   "execution_count": 16,
   "metadata": {},
   "outputs": [
    {
     "data": {
      "text/plain": [
       "array([-1.3749216 , -0.9209707 , -0.48585108,  0.7449953 , -0.04045266,\n",
       "        0.40948564,  1.2951561 ,  1.480995  ,  0.48480064, -0.7330386 ,\n",
       "        2.462772  , -0.9649264 , -0.37727293,  0.08553091, -0.24743515,\n",
       "        1.6335745 , -0.06138834, -1.5028492 ,  0.967414  ,  0.63307035,\n",
       "       -0.72185993,  0.6233178 , -1.1602921 , -0.6722332 ,  0.9362452 ,\n",
       "        1.0436772 ,  0.3563193 ,  0.9629261 , -0.8357587 ,  0.449831  ,\n",
       "       -0.6676395 , -0.31429762,  1.9747405 , -0.38430327, -0.44635606,\n",
       "       -2.0205777 ,  0.07270992,  1.4437965 ,  0.5954057 ,  0.31014535,\n",
       "       -1.2809043 , -0.60996306, -0.6490139 ,  0.72085637, -1.1413931 ,\n",
       "       -1.5718629 , -0.5458978 ,  1.5909092 ,  0.38662726,  0.47634625,\n",
       "        0.70607305,  0.91097486,  0.34076473,  0.32807004, -0.34836677,\n",
       "        0.07606278,  1.0374578 ,  0.24974427,  0.21037751, -0.10116711,\n",
       "       -0.97328275, -0.95685375, -0.7718992 , -0.6154634 , -0.19992816,\n",
       "       -0.19895095, -0.4496122 ,  0.28037518,  0.5823548 , -1.214601  ,\n",
       "        1.1826286 ,  0.5630324 ,  0.1241945 , -1.0164824 ,  0.14934509,\n",
       "       -0.3980039 , -0.9265938 ,  0.21561976,  0.39138982, -2.1365113 ,\n",
       "       -0.29684037, -0.23177594, -1.2740371 , -1.3451545 ,  0.5225169 ,\n",
       "        0.99557483, -0.05220089, -0.0129011 , -1.2571102 ,  1.2818379 ,\n",
       "       -0.379385  ,  0.57722074,  1.571756  ,  0.54320335, -0.07744253,\n",
       "        2.266047  ], dtype=float32)"
      ]
     },
     "execution_count": 16,
     "metadata": {},
     "output_type": "execute_result"
    }
   ],
   "source": [
    "nlp('cat').vector"
   ]
  },
  {
   "cell_type": "code",
   "execution_count": 17,
   "metadata": {},
   "outputs": [
    {
     "data": {
      "text/plain": [
       "array([-0.10028917, -0.37845677,  0.06776784,  0.55306256, -0.10731608,\n",
       "       -0.30477595, -0.0895832 ,  0.03440759, -0.03828333,  0.7121062 ,\n",
       "       -0.40316275,  0.03046582, -0.1585456 ,  0.15327282, -0.24506907,\n",
       "        0.41505983,  0.4613986 ,  0.00247969, -0.31314042, -0.08333338,\n",
       "       -0.34550363, -0.3589215 , -0.06911438, -0.880454  ,  0.7141748 ,\n",
       "       -0.42672196,  0.16293685,  0.81257385, -0.03947157,  0.28672293,\n",
       "        0.02963316, -0.0817601 ,  0.46841002, -0.6258934 , -0.37701684,\n",
       "       -0.57715315, -0.09427088, -0.08977167,  0.02473315,  0.5861517 ,\n",
       "       -0.04703555,  0.44248915, -0.27084973,  0.3505799 ,  0.31867   ,\n",
       "        0.51258415, -0.26269215,  0.5437421 ,  0.78895104, -0.11439297,\n",
       "       -0.19308007, -0.504414  , -0.3273931 ,  0.09130011,  0.4647537 ,\n",
       "        0.01094646,  0.06151894, -0.03339434, -0.5313671 , -0.28571603,\n",
       "        0.7387715 ,  0.0072313 ,  0.4475791 ,  0.28029954,  0.60857075,\n",
       "       -0.688815  ,  0.26193497, -0.64164543,  0.70690316,  0.20012219,\n",
       "       -0.24509181,  0.55180365, -0.28535724, -0.25727075, -0.2283748 ,\n",
       "        0.20671998,  0.6810655 , -0.8481955 , -0.22757086,  0.1287857 ,\n",
       "       -0.4499285 , -0.04995588, -0.28579602, -0.2534597 ,  0.02559044,\n",
       "        0.0944517 ,  0.07593329, -0.3369867 , -0.21285354, -0.05912207,\n",
       "       -0.26153663,  0.06424505,  0.76643616,  0.3137029 ,  0.22180822,\n",
       "       -0.2393562 ], dtype=float32)"
      ]
     },
     "execution_count": 17,
     "metadata": {},
     "output_type": "execute_result"
    }
   ],
   "source": [
    "nlp('Some people have never eaten a taco').vector"
   ]
  },
  {
   "cell_type": "code",
   "execution_count": 18,
   "metadata": {},
   "outputs": [
    {
     "name": "stdout",
     "output_type": "stream",
     "text": [
      "We have 4 different vectors\n",
      "And the first one has 96 measurements\n",
      "And the second one has 96 measurements\n",
      "And the third one has 96 measurements\n",
      "And the fourth one has 96 measurements\n"
     ]
    }
   ],
   "source": [
    "# We aren't printing this because it's 3 * 300 = 900 numbers\n",
    "vectors = [nlp(sentence).vector for sentence in sentences]\n",
    "\n",
    "# Print out some notes about it\n",
    "print(\"We have\", len(vectors), \"different vectors\")\n",
    "print(\"And the first one has\", len(vectors[0]), \"measurements\")\n",
    "print(\"And the second one has\", len(vectors[1]), \"measurements\")\n",
    "print(\"And the third one has\", len(vectors[2]), \"measurements\")\n",
    "print(\"And the fourth one has\", len(vectors[3]), \"measurements\")"
   ]
  },
  {
   "cell_type": "code",
   "execution_count": 19,
   "metadata": {},
   "outputs": [
    {
     "data": {
      "text/html": [
       "<style type=\"text/css\">\n",
       "#T_609d5_row0_col0, #T_609d5_row1_col1, #T_609d5_row2_col2, #T_609d5_row3_col3 {\n",
       "  background-color: #023858;\n",
       "  color: #f1f1f1;\n",
       "}\n",
       "#T_609d5_row0_col1, #T_609d5_row1_col0 {\n",
       "  background-color: #056aa6;\n",
       "  color: #f1f1f1;\n",
       "}\n",
       "#T_609d5_row0_col2, #T_609d5_row2_col0 {\n",
       "  background-color: #83afd3;\n",
       "  color: #f1f1f1;\n",
       "}\n",
       "#T_609d5_row0_col3, #T_609d5_row3_col0 {\n",
       "  background-color: #fff7fb;\n",
       "  color: #000000;\n",
       "}\n",
       "#T_609d5_row1_col2, #T_609d5_row2_col1 {\n",
       "  background-color: #358fc0;\n",
       "  color: #f1f1f1;\n",
       "}\n",
       "#T_609d5_row1_col3, #T_609d5_row3_col1 {\n",
       "  background-color: #dfddec;\n",
       "  color: #000000;\n",
       "}\n",
       "#T_609d5_row2_col3, #T_609d5_row3_col2 {\n",
       "  background-color: #c4cbe3;\n",
       "  color: #000000;\n",
       "}\n",
       "</style>\n",
       "<table id=\"T_609d5\">\n",
       "  <thead>\n",
       "    <tr>\n",
       "      <th class=\"blank level0\" >&nbsp;</th>\n",
       "      <th id=\"T_609d5_level0_col0\" class=\"col_heading level0 col0\" >Molly ate a donut</th>\n",
       "      <th id=\"T_609d5_level0_col1\" class=\"col_heading level0 col1\" >Molly ate a fish</th>\n",
       "      <th id=\"T_609d5_level0_col2\" class=\"col_heading level0 col2\" >Jen consumed a carp</th>\n",
       "      <th id=\"T_609d5_level0_col3\" class=\"col_heading level0 col3\" >Lenny fears the lions</th>\n",
       "    </tr>\n",
       "  </thead>\n",
       "  <tbody>\n",
       "    <tr>\n",
       "      <th id=\"T_609d5_level0_row0\" class=\"row_heading level0 row0\" >Molly ate a donut</th>\n",
       "      <td id=\"T_609d5_row0_col0\" class=\"data row0 col0\" >1.000000</td>\n",
       "      <td id=\"T_609d5_row0_col1\" class=\"data row0 col1\" >0.815810</td>\n",
       "      <td id=\"T_609d5_row0_col2\" class=\"data row0 col2\" >0.542203</td>\n",
       "      <td id=\"T_609d5_row0_col3\" class=\"data row0 col3\" >0.145990</td>\n",
       "    </tr>\n",
       "    <tr>\n",
       "      <th id=\"T_609d5_level0_row1\" class=\"row_heading level0 row1\" >Molly ate a fish</th>\n",
       "      <td id=\"T_609d5_row1_col0\" class=\"data row1 col0\" >0.815810</td>\n",
       "      <td id=\"T_609d5_row1_col1\" class=\"data row1 col1\" >1.000000</td>\n",
       "      <td id=\"T_609d5_row1_col2\" class=\"data row1 col2\" >0.680518</td>\n",
       "      <td id=\"T_609d5_row1_col3\" class=\"data row1 col3\" >0.302910</td>\n",
       "    </tr>\n",
       "    <tr>\n",
       "      <th id=\"T_609d5_level0_row2\" class=\"row_heading level0 row2\" >Jen consumed a carp</th>\n",
       "      <td id=\"T_609d5_row2_col0\" class=\"data row2 col0\" >0.542203</td>\n",
       "      <td id=\"T_609d5_row2_col1\" class=\"data row2 col1\" >0.680518</td>\n",
       "      <td id=\"T_609d5_row2_col2\" class=\"data row2 col2\" >1.000000</td>\n",
       "      <td id=\"T_609d5_row2_col3\" class=\"data row2 col3\" >0.392180</td>\n",
       "    </tr>\n",
       "    <tr>\n",
       "      <th id=\"T_609d5_level0_row3\" class=\"row_heading level0 row3\" >Lenny fears the lions</th>\n",
       "      <td id=\"T_609d5_row3_col0\" class=\"data row3 col0\" >0.145990</td>\n",
       "      <td id=\"T_609d5_row3_col1\" class=\"data row3 col1\" >0.302910</td>\n",
       "      <td id=\"T_609d5_row3_col2\" class=\"data row3 col2\" >0.392180</td>\n",
       "      <td id=\"T_609d5_row3_col3\" class=\"data row3 col3\" >1.000000</td>\n",
       "    </tr>\n",
       "  </tbody>\n",
       "</table>\n"
      ],
      "text/plain": [
       "<pandas.io.formats.style.Styler at 0x208a580dba0>"
      ]
     },
     "execution_count": 19,
     "metadata": {},
     "output_type": "execute_result"
    }
   ],
   "source": [
    "# Compute similarities\n",
    "similarities = cosine_similarity(vectors)\n",
    "\n",
    "# Turn into a dataframe\n",
    "pd.DataFrame(similarities,\n",
    "            index=sentences,\n",
    "            columns=sentences) \\\n",
    "            .style \\\n",
    "            .background_gradient(axis=None)"
   ]
  },
  {
   "cell_type": "code",
   "execution_count": 20,
   "metadata": {},
   "outputs": [
    {
     "data": {
      "text/html": [
       "<style type=\"text/css\">\n",
       "#T_8f2ab_row0_col0, #T_8f2ab_row1_col1, #T_8f2ab_row2_col2 {\n",
       "  background-color: #023858;\n",
       "  color: #f1f1f1;\n",
       "}\n",
       "#T_8f2ab_row0_col1, #T_8f2ab_row1_col0 {\n",
       "  background-color: #fff7fb;\n",
       "  color: #000000;\n",
       "}\n",
       "#T_8f2ab_row0_col2, #T_8f2ab_row2_col0 {\n",
       "  background-color: #e3e0ee;\n",
       "  color: #000000;\n",
       "}\n",
       "#T_8f2ab_row1_col2, #T_8f2ab_row2_col1 {\n",
       "  background-color: #2f8bbe;\n",
       "  color: #f1f1f1;\n",
       "}\n",
       "</style>\n",
       "<table id=\"T_8f2ab\">\n",
       "  <thead>\n",
       "    <tr>\n",
       "      <th class=\"blank level0\" >&nbsp;</th>\n",
       "      <th id=\"T_8f2ab_level0_col0\" class=\"col_heading level0 col0\" >Veronica hates mustard. I hate you.</th>\n",
       "      <th id=\"T_8f2ab_level0_col1\" class=\"col_heading level0 col1\" >Veronica loves ketchup</th>\n",
       "      <th id=\"T_8f2ab_level0_col2\" class=\"col_heading level0 col2\" >Joseph hates ketchup</th>\n",
       "    </tr>\n",
       "  </thead>\n",
       "  <tbody>\n",
       "    <tr>\n",
       "      <th id=\"T_8f2ab_level0_row0\" class=\"row_heading level0 row0\" >Veronica hates mustard. I hate you.</th>\n",
       "      <td id=\"T_8f2ab_row0_col0\" class=\"data row0 col0\" >1.000000</td>\n",
       "      <td id=\"T_8f2ab_row0_col1\" class=\"data row0 col1\" >0.476955</td>\n",
       "      <td id=\"T_8f2ab_row0_col2\" class=\"data row0 col2\" >0.564298</td>\n",
       "    </tr>\n",
       "    <tr>\n",
       "      <th id=\"T_8f2ab_level0_row1\" class=\"row_heading level0 row1\" >Veronica loves ketchup</th>\n",
       "      <td id=\"T_8f2ab_row1_col0\" class=\"data row1 col0\" >0.476955</td>\n",
       "      <td id=\"T_8f2ab_row1_col1\" class=\"data row1 col1\" >1.000000</td>\n",
       "      <td id=\"T_8f2ab_row1_col2\" class=\"data row1 col2\" >0.813367</td>\n",
       "    </tr>\n",
       "    <tr>\n",
       "      <th id=\"T_8f2ab_level0_row2\" class=\"row_heading level0 row2\" >Joseph hates ketchup</th>\n",
       "      <td id=\"T_8f2ab_row2_col0\" class=\"data row2 col0\" >0.564298</td>\n",
       "      <td id=\"T_8f2ab_row2_col1\" class=\"data row2 col1\" >0.813367</td>\n",
       "      <td id=\"T_8f2ab_row2_col2\" class=\"data row2 col2\" >1.000000</td>\n",
       "    </tr>\n",
       "  </tbody>\n",
       "</table>\n"
      ],
      "text/plain": [
       "<pandas.io.formats.style.Styler at 0x208a580e0e0>"
      ]
     },
     "execution_count": 20,
     "metadata": {},
     "output_type": "execute_result"
    }
   ],
   "source": [
    "# Here are our sentences\n",
    "sentences = [\n",
    "    'Veronica hates mustard. I hate you.',\n",
    "    'Veronica loves ketchup',\n",
    "    'Joseph hates ketchup',\n",
    "]\n",
    "\n",
    "# Turn into vectors\n",
    "vectors = [nlp(sentence).vector for sentence in sentences]\n",
    "\n",
    "# Compute similarities\n",
    "similarities = cosine_similarity(vectors)\n",
    "\n",
    "# Turn into a dataframe\n",
    "pd.DataFrame(similarities,\n",
    "            index=sentences,\n",
    "            columns=sentences) \\\n",
    "            .style \\\n",
    "            .background_gradient(axis=None)"
   ]
  },
  {
   "cell_type": "code",
   "execution_count": null,
   "metadata": {},
   "outputs": [],
   "source": []
  },
  {
   "attachments": {},
   "cell_type": "markdown",
   "metadata": {},
   "source": [
    "## Training New Model with Gensim"
   ]
  },
  {
   "cell_type": "code",
   "execution_count": 21,
   "metadata": {},
   "outputs": [],
   "source": [
    "from gensim.utils import simple_preprocess\n",
    "from gensim.models.phrases import Phrases #, ENGLISH_CONNECTOR_WORDS\n",
    "from gensim.models import Word2Vec\n",
    "\n",
    "import pandas as pd"
   ]
  },
  {
   "cell_type": "code",
   "execution_count": 73,
   "metadata": {},
   "outputs": [],
   "source": [
    "Corpus = '''As long as the child does not have enough strength to wear sandals (the wooden ones for girls and women are called hubkab, the leather ones for boys and`men are tailed watje), it runs' about barefooted. Because the watje are considerably lighter to wear than the kubkab, very, small girls initially are made to walk on the former until they have acquired the necessary skill to wear the ku*bkeib forever. Neither children nor adults of both sexes wear stockings; only more aristocratic ladies use them now and then when riding, as custom requires one to cover the ankles.\n",
    "Already at the age of two to four months, two or three slaves, besides the wet nurses, were allotted to the child by our father. From then on they remained its property. The older it grew, the more slaves it received for its personal attendance. If one of them died, our father replaced him, or gave an appropriate sum of money. Up to 'a certain age, little girls wear boys' caps in the house.\n",
    "Until his seventh year each prince at home stays among the women. At this age the mosaic rite [circumcision] is performed on him. Ceremonies of course play an important role on this occasion, the closing of which, after the child's recovery, forms a peculiar festivity, in which all dignitaries and high officials are allowed to take part. This deed, if in any way possible, was enacted in the country and in the presence of our father. A public entertainment, usually lasting for three days, also accompanied this.\n",
    " \n",
    "From this time onwards, every boy received a quiet mare of his own. His escort could take their mounts from the stables, where a couple of hundred Arabian horses were standing. In this way the boy, at a very early age, learns to ride well and acquires a very outstanding skill and nimbleness, which only a trained circus rider is otherwise credited with. Since we had neither a true saddle nor stirrup, it required of course much more dexterity to gain a firm seat than in this country. Our father followed a characteristic custom when his sons ran into some mishap while out riding. In that case not only they themselves but also their escort could expect punishment. For our father assumed that the latter, with the tight warrants and instructions which he had conferred on them, must have behaved much too indulgently towards the princes.\n",
    "Not one of us was spoiled in any way. My father's high sense of justice and unparalleled generosity was combined with an equally firm consistency which did not know any weakness. All of us had to obey our teachers and educators on the strength of their word [be they Arabs, Abyssinians or simple negroes). If occasionally we complained to our father, we certainly left his presence in tears or shame for our behavior. This severity taught us the reverence due to such people, and with increasing age the appreciation of how deep our moral indebtedness to them was also grew.\n",
    "The nurses, even if they had served as such for a very short time, were partic-ularly honoured and enjoyed special esteem for the remainder of their life. By birth they were always slaves, but as a rule they were freed in reward of their fidelity and devotion. The black wet nurses especially distinguished themselves by extraordinary fidelity and attachment. Even the most cautious mother might in all confidence leave her child with the wet nurse, who usually considered herself as its second mother and acted accordingly. How the lack of interest and the heartlessness of the wet nurses in these parts stand out in stark contrast with this! Often enough have I felt myself forced to give, on a public walkway, a good talking to such a character, totally unknown to me, for her brutal treatment of the little thing entrusted to her. This contrast between the wet nurses of these parts and our Arab ones may possibly be explained by the fact that the former are forced by their poverty alone to entrust their own beloved child to complete strangers under much sacrifice. Only for money's sake they serve masters; whether the child to nurse is called Tom or Dick is indifferent to them; their thoughts and feelings naturally linger with their own child. And which mother would hold this against her!\n",
    "How very different is a black nurse's attitude towards her mistress's child entrusted to her. For years she is in the latter's service, she may even have been born in her house; it then is understandable that she does not have many private interests, that she makes those of her masters her own. Moreover, there is the most important fact that a black wet nurse only very rarely, if ever, is required to part with her child, but may quietly retain it. The wet nurse's child then receives the same nourishment as its little master or mistress, the same milk soup, part of the same fowl, etc.; the same goes for the bath, and the used dresses fall no\n",
    " \n",
    "less to its lot. When its mother stops serving as a wet nurse, her child continues to be the playmate of her second foster-child. Though remaining a slave, it is always preferred to the rest of the slaves, and only bad people offend against this attachment to the foster-brother.\n",
    "The black wet nurses, however, have one very bad habit. They know how to tell the little children of three to five years old very dreadful stories and fairytales. Partly to amuse them, partly also to keep them quiet. The lion (simba), the leopard (tshui), the elephant (tembo), and the numerous witches (watchawi) occupy of course the first place in these often also for adults horrifying fables.\n",
    "On the whole, rearing a child in the south is unquestionably much easier than here in the north: above all, the everlasting colds and everything they, usually entail are rare. Notwithstanding all indolence, children there are very independent and adroit, for they are allowed to play and jump freer and more unconstrained (both in space and in dress) to their heart's content. Though gymnastic exercises are completely unknown, it is no rarity that a boy of ten to twelve in playing takes a stiff run and leaps over one or even two horses. High jumping in general plays an important role, and everybody strives as much as he can to surpass the other.\n",
    "Swimming in the sea was practiced no less eagerly, and everybody taught himself without any guidance. Shooting too began early and was pursued with great passion. Mock-fights were extraordinarily favored from youth onward many an hour was devoted to them. Though the boys went about armed to the teeth and carried as much powder and lead as grown-ups, one hardly ever heard of an accident caused by imprudence.\n",
    "Up to a certain age only, the young princes, as already mentioned above, lived in their father's house. Then a house of their own was assigned to each to keep independently, as a rule with their mother if she was still alive. As maintenance he was granted by our father a certain monthly allowance, and then he had to \"cut his coat according to his cloth,\" which was certainly matching the needs. At marriage, at an increase to the family, or also for exceptional conduct, he might count on an extra allowance, but in no other case. Only when our father's ships arrived annually with the new purchases, did all my brothers and sisters living outside the paternal house come with their families to receive each the share belonging to him, whether he needed it or not. If any one of them had the great misfortune of spending more than what his allowance brought in, it was never made easy for him to pay his debts; nothing was more hateful to our father, and the one who had brought this disgrace to himself was very much on his guard not to incur the same a second time.\n",
    "If a war broke out, as unfortunately was so often the case in Oman, all the princes, the half-grown included, had to take the field too and to take part in the fight like any common man. On the whole, discipline was strict, but it only raised the respect and reverence of the sons for their father. As a child I often saw with astonishment how my elder brother, anticipating the slaves, hurried to put, in readiness the sandals my father had left at the door of his room. The\n",
    " \n",
    "elder brothers appeared also in the paternal house several times a day, as soon as our father was present, and then took part in the meals.\n",
    "There is but very little to say about the education of a princess; the first years it is the same as that of her brothers, with the exception that the latter at their seventh year obtain a much greater freedom outside the house. The only thing deserving mention at a princess's birth is that, in accordance with the hairdress in our country, a broad comb, generally of silver, is placed under the back of the newborn to give it a flat shape for later age. When a Princess is married to one of her cousins, who to be sure are more numerous in Oman than in Zanzibar, she of course leaves the paternal house in exchange for that of her husband. The former, however, the sole and real bulwark against all hardships of life, remains always open as a place to live. But if she prefers, she can also go and live with a brother. Every sister has her favourite brother, and vice versa; in joy and sorrow these two stick together and support each other by word and deed. As praiseworthy and, for those concerned, as much a blessing as this habit was in such a numerous family circle as ours, it understandably created many jealousies among brothers and sisters, and it often required a strong character to overcome all these.\n",
    "Often such a loving sister had to intercede with our father for some imprudence of her favourite brother, for he liked to favour his daughters and rarely left their requests unheard. To his elder daughters in particular he was extraordinarily obliging; he usually went to meet them from afar and had them seated by his side on the sofa, while the grown-up sons and we little people stood respectfully before him.\n",
    "Schooling (mdarse) is of very little importance for the Oriental in general and consequently for us too. In Europe school is at the center of State and Church, without distinction for prince and citizen; for both the formation of his character and his prospects for the future, the individual depends essentially upon it for his success. But in the Orient the mdarse is altogether a matter of secondary importance; for a good many people it does not exist at all. But before engaging in further discussions, I wish to say something about what we called school in our house.\n",
    "At the age of six to seven, all my brothers and sisters, boys as well as girls, had,to enter the mdarse. We girls were only required to learn to read, the boys to read and write. For teaching there was at both Bet il•Mtoni and Bet it Sahel only one lady teacher, whom our father had sent for from Oman. When the teacher fell ill and was confined to her bed, there was always great joy among us; no replacement could be procured for her, and so we had holidays.\n",
    "There was no specific schoolroom, lessons took place in an open gallery, to which pigeons, parrots, peacocks and ricebirds found free entrance. From there we also had a free view of the courtyard and were able to amuse ourselves with watching its busy life down there. The furniture of the schoolroom consisted of a single, immense mat only. Our school equipment was equally simple: we only needed a Kuran with its stand (marfa), a small inkstand with ink, a bamboo\n",
    " \n",
    "quill, and a well-bleached shoulder-blade of a camel. The latter is the substitute for the slate; writing with ink on this is quite easy, and the nerves are certainly less assailed than at the scratching on the slate. Our slaves usually took care of wiping off the blades.\n",
    "The first thing we had to learn, exactly as is done here, was the very complicated Arabic alphabet. Then, for want of any other school-book, we started reading the Kuran with which, as mentioned above, writing lessons were connected for the boys. When one was able to read a little, one joined the others who all read in a chorus and mostly very loudly. But that was all, for what is read and learned is never explained. Hence there was at most only one among thousands who understood word by word all the meanings and precepts of the Holy Script of the Muslims and who was able to explain them, though probably, eighty out of one hundred had learned half of it by heart. Reflecting upon the Holy Script was even considered irreligious and unauthorized; people should simply believe what they were taught, and this maxim was rigorously carried out.\n",
    "Having enjoyed some fruit, we had to assemble at seven o'clock in the morning on our mat, which had been rolled up during the night and was now swept clean, and had to await the arrival of our severe lady teacher. Until she arrived, we whiled away the time to our heart's content with wrestling, boxing, jumping, climbing the railings which was life endangering, and other favourite amusements of the children's world. We set a watch at the bend of the gallery, who by simulated coughing announced the teacher's arrival from afar. In no time we were all sitting on the mat, an image of the greatest innocence, and only when her steps came near, did we rebound like India rubber balls, to shake hands respectfully with the dreaded one and to wish her good morning. She always carried the detested bamboo cane in one hand and a large brass inkstand in the other. We stood in file before her until she had taken her seat; only then were we permitted to follow this example. All of us sat cross-legged oh the mat, flocked together in a circle around the teacher.\n",
    "She now would begin to recite the first sura of the Kuran, the Muslim Lord's prayer as it were. We prayed in chorus after her and concluded with the well-known Amin (not Amen). Then we repeated what we had learned the day before, and after that We were given a new piece for reading or writing. Lessons regularly lasted until about nine o'clock, and then, after breakfast, again till about noon, the time of the second prayer.\n",
    "Each of us was allowed to bring some of his slaves to school to take part in the lessons; they sat at some distance behind us, while we grouped ourselves as we pleased, for there were neither fixed places for us or division in different forms. People had not the faintest notion of school reports, which a few times every year occasion feverish excitement in this country. If someone made particularly good or bad progress, distinguished himself particularly through good or bad behaviour, this usually was reported orally to the respective mothers and to our father. From the latter the lady teacher had the explicit order to punish us\n",
    " \n",
    "severely, if there was any cause. And our great wildness obliged her to use 'the evil bamboo cane.\n",
    "Besides reading and writing, we were taught a little arithmetic, numbering up to one hundred in writing and up to one thousand orally; what is beyond that is believed to be from the evil one. With grammar and orthography not much pain was taken, and the rather complicated Ilnahu [grammar, from Arabic al-nabw] was only acquired by much reading over the years. At home I never heard of such sciences as history, geography, physics, mathematics or how they are all named let alone that I learned them. It was only in this country [i.e., Germany] that I had the pleasure to become acquainted with all these fields of knowledge. But it will remain an open question to me whether, with the little wisdom laboriously acquired here, I am now better off than the others over there. That I have never been more deceived and swindled than in the time of my greatest knowledge, this is certain. Oh you happy people at home! Not even in your dreams do you surmise all that is connected with holy civilization!'''\n"
   ]
  },
  {
   "cell_type": "code",
   "execution_count": 74,
   "metadata": {},
   "outputs": [
    {
     "name": "stdout",
     "output_type": "stream",
     "text": [
      "[['as', 'long', 'as', 'the', 'child', 'does', 'not', 'have', 'enough', 'strength', 'to', 'wear', 'sandals', 'the', 'wooden', 'ones', 'for', 'girls', 'and', 'women', 'are', 'called', 'hubkab', 'the', 'leather', 'ones', 'for', 'boys', 'and', 'men', 'are', 'tailed', 'watje', 'it', 'runs', 'about', 'barefooted'], ['because', 'the', 'watje', 'are', 'considerably', 'lighter', 'to', 'wear', 'than', 'the', 'kubkab', 'very', 'small', 'girls', 'initially', 'are', 'made', 'to', 'walk', 'on', 'the', 'former', 'until', 'they', 'have', 'acquired', 'the', 'necessary', 'skill', 'to', 'wear', 'the', 'ku', 'bkeib', 'forever'], ['neither', 'children', 'nor', 'adults', 'of', 'both', 'sexes', 'wear', 'stockings', 'only', 'more', 'aristocratic', 'ladies', 'use', 'them', 'now', 'and', 'then', 'when', 'riding', 'as', 'custom', 'requires', 'one', 'to', 'cover', 'the', 'ankles', 'already', 'at', 'the', 'age', 'of', 'two', 'to', 'four', 'months', 'two', 'or', 'three', 'slaves', 'besides', 'the', 'wet', 'nurses', 'were', 'allotted', 'to', 'the', 'child', 'by', 'our', 'father'], ['from', 'then', 'on', 'they', 'remained', 'its', 'property'], ['the', 'older', 'it', 'grew', 'the', 'more', 'slaves', 'it', 'received', 'for', 'its', 'personal', 'attendance']]\n"
     ]
    }
   ],
   "source": [
    "Corpus_list = [x.replace(\"\\n\",\" \").replace(\".\", \"\") for x in Corpus.split(\". \")]\n",
    "Corpus_list = [simple_preprocess(x, deacc=True, max_len=50, min_len=1) for x in Corpus_list]\n",
    "print(Corpus_list[0:5])"
   ]
  },
  {
   "cell_type": "code",
   "execution_count": 88,
   "metadata": {},
   "outputs": [],
   "source": [
    "model = Word2Vec(sentences = Corpus_list, min_count = 1, vector_size = 600, workers = 3, window = 10, epochs=10)"
   ]
  },
  {
   "cell_type": "code",
   "execution_count": 76,
   "metadata": {},
   "outputs": [
    {
     "name": "stdout",
     "output_type": "stream",
     "text": [
      "['the', 'to', 'and', 'of', 'in', 'a', 'for', 'was', 'as', 'with', 'is', 'had', 'her', 'our', 'we', 'it', 'this', 'at', 'all', 'only', 'one', 'that', 'his', 'father', 'their', 'on', 'were', 's', 'very', 'or', 'they', 'child', 'by', 'are', 'them', 'she', 'which', 'not', 'there', 'from', 'if', 'then', 'much', 'an', 'but', 'us', 'little', 'also', 'wet', 'house']\n"
     ]
    }
   ],
   "source": [
    "print(list(model.wv.key_to_index.keys())[0:50])"
   ]
  },
  {
   "cell_type": "code",
   "execution_count": 77,
   "metadata": {},
   "outputs": [
    {
     "data": {
      "text/plain": [
       "array([-1.27028730e-02, -5.72029352e-02,  2.37032905e-01, -8.07354823e-02,\n",
       "       -2.29824763e-02,  8.05969909e-02, -1.89706478e-02,  4.98451032e-02,\n",
       "        3.01215470e-01,  1.51626408e-01, -3.83543856e-02, -1.19648844e-01,\n",
       "        2.89292354e-02, -5.53202396e-03, -1.92405850e-01, -1.46671459e-01,\n",
       "        9.24257096e-03,  1.57159507e-01, -1.17915697e-01,  5.84941171e-02,\n",
       "       -2.11658314e-01, -5.32190315e-02, -5.67205846e-02, -1.88206911e-01,\n",
       "        1.08024284e-01, -6.20979182e-02,  5.75651526e-02, -4.83128056e-02,\n",
       "        2.04337955e-01, -4.00763750e-02,  6.03067949e-02,  6.41198605e-02,\n",
       "        5.48646376e-02, -2.64608145e-01,  1.82702705e-01, -1.98629782e-01,\n",
       "        1.16886906e-01, -2.88395196e-01,  2.46613503e-01,  1.21313706e-01,\n",
       "       -2.29239762e-02, -4.34392877e-02,  1.23536289e-02,  1.91128373e-01,\n",
       "        1.07914709e-01,  4.35465872e-02,  2.93971356e-02,  2.68703401e-02,\n",
       "       -1.07217237e-01,  7.21569136e-02, -1.15150206e-01, -2.19705611e-01,\n",
       "       -4.59002480e-02,  1.09033130e-01,  9.99332443e-02,  2.67152153e-02,\n",
       "        1.29967317e-01, -6.47562817e-02,  2.00519308e-01, -3.81478705e-02,\n",
       "       -7.28554353e-02,  4.58880365e-02,  7.77628869e-02,  2.60282367e-01,\n",
       "       -6.65592821e-03, -1.21731110e-01,  3.13844196e-02,  1.90875083e-01,\n",
       "       -2.58525815e-02, -7.49608949e-02,  1.28687754e-01,  1.81853458e-01,\n",
       "        1.69422925e-01, -1.23437986e-01,  8.49693716e-02,  3.28916758e-02,\n",
       "       -3.79290991e-02, -4.31009457e-02, -1.14306241e-01,  3.16736758e-01,\n",
       "        3.85087244e-02, -1.31698057e-01, -8.30419287e-02,  1.80791438e-01,\n",
       "       -2.48783827e-02, -1.14581563e-01,  1.68166086e-02,  1.96267739e-01,\n",
       "       -1.17940769e-01, -1.37213394e-01,  9.10006929e-03,  1.77268013e-02,\n",
       "        7.83051923e-02, -6.28280221e-03,  3.39741111e-02,  7.04723373e-02,\n",
       "        1.83206603e-01,  5.39592393e-02,  2.25541681e-01,  1.15119837e-01,\n",
       "       -2.38229007e-01,  1.03633396e-01,  1.24867827e-01, -5.97399008e-03,\n",
       "        9.89863202e-02,  8.68297219e-02, -8.69434252e-02,  1.22560456e-01,\n",
       "        2.78336890e-02,  9.68659222e-02,  5.06484881e-02,  1.04754861e-03,\n",
       "       -2.39221886e-01, -2.95100175e-02,  1.69995066e-03,  1.65434614e-01,\n",
       "        3.73056203e-01,  8.36954564e-02, -6.59256205e-02, -2.03044072e-01,\n",
       "       -2.05858890e-02, -5.49722575e-02,  1.81222051e-01, -6.21399768e-02,\n",
       "        4.75789681e-02,  5.24298884e-02, -2.69134529e-02, -2.05921263e-01,\n",
       "        3.16165239e-01,  1.01123549e-01, -1.20062558e-02,  2.22678289e-01,\n",
       "       -8.29759389e-02, -2.47496337e-01, -2.34184489e-01,  1.85933381e-01,\n",
       "        4.54172194e-02, -2.46897012e-01, -4.23709899e-02, -2.81364113e-01,\n",
       "        6.00709692e-02, -1.17324635e-01, -4.37129587e-02,  1.77673504e-01,\n",
       "       -7.68365264e-02, -1.74588040e-01, -1.81034341e-01, -1.40422871e-02,\n",
       "        3.13079894e-01,  3.60347517e-02,  6.16598539e-02, -7.20637059e-03,\n",
       "       -3.43736336e-02, -1.76774710e-01,  2.32484639e-02,  1.59914181e-01,\n",
       "        2.26640716e-01, -1.38526320e-01, -1.56203464e-01,  1.91062391e-02,\n",
       "        2.30398029e-01, -6.12362362e-02, -2.10865289e-02,  1.53633859e-02,\n",
       "       -6.43816441e-02, -1.47414595e-01,  4.67085019e-02, -7.19316909e-03,\n",
       "       -1.26998246e-01, -1.72759652e-01, -2.35011205e-02,  4.19117883e-02,\n",
       "       -2.93469243e-02, -7.91213140e-02,  1.84256211e-01, -1.72738597e-01,\n",
       "        5.21879159e-02,  1.65134445e-02, -1.07695982e-01, -1.86862070e-02,\n",
       "       -1.16141751e-01, -1.53060451e-01, -1.42142788e-01, -7.24847913e-02,\n",
       "        4.76344692e-04, -3.33508819e-01, -8.03720392e-03,  2.32763052e-01,\n",
       "        1.02529995e-01, -1.45893127e-01,  1.35124296e-01,  1.60873428e-01,\n",
       "       -9.07698199e-02, -2.19338492e-01, -1.15284525e-01, -6.29619509e-02,\n",
       "       -1.27042353e-01, -1.32838413e-01,  1.32162809e-01, -2.38375723e-01,\n",
       "       -1.13896526e-01, -1.17913391e-02,  2.12802608e-02, -7.23560825e-02,\n",
       "       -8.48799348e-02, -1.08456492e-01, -1.10414945e-01,  5.75043447e-02,\n",
       "       -7.66560063e-02, -1.25924379e-01,  1.63317248e-01, -1.59510255e-01,\n",
       "       -2.67810542e-02, -2.89308317e-02, -1.21077716e-01, -7.12276548e-02,\n",
       "        1.85978472e-01,  5.24060577e-02,  1.02243453e-01,  3.44470181e-02,\n",
       "        1.63497552e-01, -1.15266368e-01,  1.34703750e-02,  6.57021180e-02,\n",
       "       -9.65507329e-02,  5.76844811e-02,  1.85056776e-02,  4.85691242e-02,\n",
       "       -1.29716709e-01, -2.62987092e-02, -3.56160589e-02, -1.39172688e-01,\n",
       "       -1.34723440e-01,  2.20554486e-01, -9.83527005e-02, -1.06911384e-01,\n",
       "        2.87576858e-02,  1.40000954e-01,  6.57821149e-02,  3.60694267e-02,\n",
       "       -7.02176290e-03,  5.86835444e-02,  1.33033944e-02, -9.25865918e-02,\n",
       "        1.76850319e-01, -1.57498121e-02,  1.35891408e-01,  1.37542048e-02,\n",
       "        1.29592091e-01,  4.25292812e-02,  1.83133826e-01, -5.98426685e-02,\n",
       "       -7.88757810e-04, -1.65946707e-01, -1.59457643e-02, -1.59392849e-01,\n",
       "        3.94513384e-02,  3.57082710e-02, -1.67231336e-01, -5.10282256e-02,\n",
       "        6.53736293e-02, -8.61268714e-02, -2.84511074e-02, -2.78610408e-01,\n",
       "       -1.47900909e-01,  1.67921692e-01,  1.47098973e-02,  1.35338649e-01,\n",
       "        6.04860671e-02,  1.25898540e-01,  6.58746883e-02,  1.03614941e-01,\n",
       "       -8.21162835e-02, -5.00781015e-02,  2.14755073e-01, -7.71285826e-03,\n",
       "        1.96687207e-01, -5.13559282e-02, -1.35801747e-01,  2.19520047e-01,\n",
       "       -1.16558541e-02, -6.99627995e-02,  2.74084330e-01, -2.16571204e-02,\n",
       "        7.38866329e-02, -1.09841824e-01, -6.44482253e-03, -1.73080236e-01,\n",
       "        1.07861720e-01,  4.43315171e-02, -2.30152085e-01, -1.99149232e-02,\n",
       "        1.83871716e-01,  2.02321708e-01,  9.46689397e-02, -3.68500650e-02,\n",
       "       -1.25700116e-01, -1.07631721e-01, -8.70373622e-02,  1.89179659e-01,\n",
       "       -2.94489175e-01,  2.97535598e-01,  1.04882993e-01,  1.50982469e-01,\n",
       "       -1.40762597e-01, -2.07451552e-01,  6.15989864e-02,  4.57535684e-03,\n",
       "        4.04939726e-02,  6.09392440e-03, -1.80040244e-02, -2.24000327e-02,\n",
       "        1.53112456e-01, -9.24960822e-02,  5.32365404e-02, -1.92854747e-01,\n",
       "        1.46207079e-01, -8.82745087e-02,  1.86397865e-01,  2.46235967e-01,\n",
       "        3.25111896e-02,  1.44110754e-01, -9.06977132e-02,  8.26002657e-02,\n",
       "       -3.64046283e-02, -8.90252367e-03, -3.47336113e-01,  9.19892627e-04,\n",
       "        1.35759532e-01, -1.38217947e-02,  1.27773911e-01, -1.28387734e-01,\n",
       "       -1.70033932e-01,  1.41631559e-01,  1.53456265e-02, -4.06694487e-02,\n",
       "       -2.99010389e-02, -1.10808596e-01, -8.56395736e-02,  3.65803353e-02,\n",
       "        4.12369445e-02,  2.97377631e-02, -2.39770301e-02,  6.80493843e-03,\n",
       "       -1.13848276e-01, -2.59656552e-03, -2.68775551e-03,  1.53918207e-01,\n",
       "       -1.09928668e-01,  1.77054629e-01, -1.94871724e-02, -2.19638896e-04,\n",
       "        2.71740526e-01, -5.75491823e-02,  2.25919321e-01, -1.21467367e-01,\n",
       "       -5.21709509e-02,  1.72602281e-01,  1.85781240e-01,  9.39651951e-02,\n",
       "        4.34046015e-02,  3.27603579e-01,  2.66958633e-03,  2.36469600e-02,\n",
       "        2.73835391e-01, -2.55347639e-01, -1.54746011e-01, -1.01000637e-01,\n",
       "        5.34222834e-02,  1.85019989e-02,  2.24296868e-01,  9.48886052e-02,\n",
       "        1.80586934e-01, -5.38898595e-02, -4.05648276e-02,  3.17339523e-04,\n",
       "       -1.49763495e-01, -1.15476899e-01,  8.36012140e-02,  1.59914494e-01,\n",
       "       -1.78819403e-01, -2.21809387e-01,  1.45890951e-01, -1.50116503e-01,\n",
       "       -6.70070667e-03,  1.37632685e-02,  7.10828826e-02,  3.24734710e-02,\n",
       "        1.29637688e-01, -8.58765766e-02,  3.53561454e-02, -2.27619201e-01,\n",
       "        2.17609420e-01, -7.90606141e-02,  1.12080008e-01, -2.39859238e-01,\n",
       "        1.75714269e-01,  1.29461288e-01, -7.39011448e-03, -3.48155424e-02,\n",
       "       -4.88585467e-03,  6.35461956e-02,  2.24697933e-01, -1.62639856e-01,\n",
       "        1.99667513e-01,  1.29083067e-01, -6.90676272e-02,  3.44904780e-01,\n",
       "       -1.22889176e-01,  1.51367366e-01,  6.96969777e-02, -2.51377691e-02,\n",
       "        7.15826899e-02,  2.03240946e-01, -2.16380537e-01,  1.26886129e-01,\n",
       "       -9.05366428e-03,  9.97229218e-02,  5.80245033e-02,  4.57584783e-02,\n",
       "        1.30233556e-01, -2.87376288e-02, -1.47669360e-01,  4.50384505e-02,\n",
       "        5.84757179e-02,  1.22375354e-01,  1.40380308e-01,  6.03133067e-02,\n",
       "       -1.99064657e-01,  1.83515489e-01, -5.72112091e-02, -1.77556381e-01,\n",
       "       -1.47185558e-02, -7.48314261e-02,  2.96921432e-01,  3.93106230e-02,\n",
       "        6.99772537e-02, -8.83154497e-02, -1.05490938e-01, -1.81551371e-02,\n",
       "       -7.18688667e-02,  3.09543349e-02, -6.53576329e-02, -9.46942121e-02,\n",
       "       -1.39474524e-02, -1.19133145e-01, -7.21749961e-02,  1.20953202e-01,\n",
       "       -1.77814160e-02, -1.63578689e-01, -8.06073472e-02,  2.34314762e-02,\n",
       "       -2.15143010e-01,  4.05885838e-02, -1.78804502e-01, -3.11688520e-02,\n",
       "       -1.54856563e-01, -5.22264779e-01,  1.40092839e-02, -3.20628703e-01,\n",
       "       -1.77681550e-01,  5.07698543e-02, -1.67105168e-01, -4.48136814e-02,\n",
       "        1.23534560e-01,  3.29705477e-02,  1.43648237e-01,  1.67031243e-01,\n",
       "        1.18407153e-01,  6.26592338e-02, -4.36868109e-02,  1.62961587e-01,\n",
       "        4.18286137e-02, -1.41660217e-02,  2.80713346e-02,  8.29803348e-02,\n",
       "       -1.07229382e-01, -1.80755984e-02, -1.16766363e-01, -9.73106995e-02,\n",
       "        3.71340401e-02, -9.95587781e-02,  1.45386569e-02,  5.44186197e-02,\n",
       "       -2.26812363e-02,  1.06298663e-01,  2.26924270e-02, -4.51257341e-02,\n",
       "       -3.24568935e-02, -2.25264728e-01, -9.60672945e-02, -1.00943632e-01,\n",
       "       -1.78626433e-01, -2.23574210e-02,  3.69260609e-02, -1.15278049e-03,\n",
       "        8.42690095e-02, -7.78448060e-02, -1.99031070e-01,  2.26348281e-01,\n",
       "       -3.73484641e-02,  1.92550436e-01, -4.97538000e-02, -5.26340269e-02,\n",
       "       -5.22693321e-02,  1.30081587e-02, -3.91556844e-02, -3.12414428e-04,\n",
       "        1.78421214e-02, -7.51616433e-02,  6.39555454e-02,  1.26498029e-01,\n",
       "        2.12566793e-01,  5.47353318e-03,  1.24184592e-02, -2.10902259e-01,\n",
       "       -9.11345612e-03,  8.32002237e-02,  1.10238515e-01,  1.23403631e-01,\n",
       "        3.38003263e-02,  6.33349791e-02, -1.42423660e-01, -1.98174745e-01,\n",
       "       -8.51805508e-02,  3.66231129e-02,  7.29230717e-02, -2.97879875e-02,\n",
       "       -8.99382904e-02, -1.90302864e-01, -1.01724766e-01,  5.65401316e-02,\n",
       "       -1.82683527e-01,  3.18541601e-02,  3.79054099e-02,  6.61172122e-02,\n",
       "       -1.10673003e-01, -4.71048616e-02, -1.87079638e-01, -1.12564035e-01,\n",
       "        7.90218487e-02, -3.58716473e-02, -5.44796810e-02, -8.82964209e-03,\n",
       "       -1.12846844e-01, -1.00292951e-01, -8.29793420e-03,  1.13282487e-01,\n",
       "       -1.78726152e-01, -5.55822393e-03,  1.58044323e-01, -2.43385918e-02,\n",
       "       -2.82786787e-02,  2.65925109e-01,  3.27722467e-02,  3.19379941e-02,\n",
       "        2.45662332e-01, -3.64797376e-02, -2.20333278e-01, -6.80850223e-02,\n",
       "        1.63712159e-01,  1.23385876e-01, -5.49784787e-02,  1.01438008e-01,\n",
       "        4.63967919e-02,  3.27353701e-02,  6.55475780e-02, -4.76232730e-02,\n",
       "        1.04311042e-01,  6.60790205e-02,  8.18821713e-02, -6.33697510e-02,\n",
       "        1.53800854e-02, -1.99269891e-01,  6.50392920e-02,  2.66855448e-01,\n",
       "        2.88794965e-01, -2.33316161e-02,  2.33744029e-02,  1.60663515e-01,\n",
       "        1.21408783e-01,  6.52261451e-03, -4.90766987e-02, -1.14765130e-01,\n",
       "       -2.91429404e-02, -5.03191203e-02,  1.05450023e-03,  1.66279793e-01,\n",
       "       -7.90230185e-02,  1.48775741e-01,  3.53427529e-02, -1.48323253e-01,\n",
       "       -6.27155006e-02, -1.19843297e-01,  1.53782398e-01,  8.95568356e-03,\n",
       "       -7.81891644e-02, -1.84482098e-01, -3.34670730e-02, -7.10801706e-02],\n",
       "      dtype=float32)"
      ]
     },
     "execution_count": 77,
     "metadata": {},
     "output_type": "execute_result"
    }
   ],
   "source": [
    "model.wv[\"world\"]"
   ]
  },
  {
   "cell_type": "code",
   "execution_count": 78,
   "metadata": {},
   "outputs": [
    {
     "name": "stdout",
     "output_type": "stream",
     "text": [
      "[('nurse', 0.8783789873123169), ('masters', 0.8145874738693237), ('playmate', 0.7832228541374207), ('continues', 0.7659434676170349), ('serve', 0.7624726295471191), ('tom', 0.7527452707290649), ('dick', 0.7428554892539978), ('indifferent', 0.7320852875709534), ('sake', 0.7241951823234558), ('entrust', 0.7180013656616211)]\n",
      "[('aristocratic', 0.9908111095428467), ('stockings', 0.9275569319725037), ('sexes', 0.8402096629142761), ('use', 0.8322800993919373), ('riding', 0.7667556405067444), ('now', 0.7210107445716858), ('more', 0.6685670614242554), ('custom', 0.6627979874610901), ('when', 0.6535467505455017), ('requires', 0.6477257609367371)]\n"
     ]
    }
   ],
   "source": [
    "print(model.wv.most_similar(\"child\"))\n",
    "print(model.wv.most_similar(\"ladies\"))"
   ]
  },
  {
   "attachments": {},
   "cell_type": "markdown",
   "metadata": {},
   "source": [
    "### Visualization with t-SNE"
   ]
  },
  {
   "cell_type": "code",
   "execution_count": 89,
   "metadata": {},
   "outputs": [
    {
     "data": {
      "image/png": "[encoded data removed]",
      "text/plain": [
       "<Figure size 600x600 with 1 Axes>"
      ]
     },
     "metadata": {},
     "output_type": "display_data"
    }
   ],
   "source": [
    "from sklearn.decomposition import IncrementalPCA    # inital reduction\n",
    "from sklearn.manifold import TSNE                   # final reduction\n",
    "import numpy as np                                  # array handling\n",
    "\n",
    "\n",
    "def reduce_dimensions(model):\n",
    "    num_dimensions = 2  # final num dimensions (2D, 3D, etc)\n",
    "\n",
    "    # extract the words & their vectors, as numpy arrays\n",
    "    vectors = np.asarray(model.wv.vectors)\n",
    "    labels = np.asarray(model.wv.index_to_key)  # fixed-width numpy strings\n",
    "\n",
    "    # reduce using t-SNE\n",
    "    tsne = TSNE(n_components=num_dimensions, random_state=0)\n",
    "    vectors = tsne.fit_transform(vectors)\n",
    "\n",
    "    x_vals = [v[0] for v in vectors]\n",
    "    y_vals = [v[1] for v in vectors]\n",
    "    return x_vals, y_vals, labels\n",
    "\n",
    "def plot_with_matplotlib(x_vals, y_vals, labels):\n",
    "    import matplotlib.pyplot as plt\n",
    "    import random\n",
    "\n",
    "    random.seed(0)\n",
    "\n",
    "    plt.figure(figsize=(6, 6))\n",
    "    plt.scatter(x_vals, y_vals)\n",
    "\n",
    "    #\n",
    "    # Label randomly subsampled 25 data points\n",
    "    #\n",
    "    indices = list(range(len(labels)))\n",
    "    selected_indices = random.sample(indices, 25)\n",
    "    for i in selected_indices:\n",
    "        plt.annotate(labels[i], (x_vals[i], y_vals[i]))\n",
    "\n",
    "x_vals, y_vals, labels = reduce_dimensions(model)\n",
    "plot_with_matplotlib(x_vals, y_vals, labels)"
   ]
  },
  {
   "cell_type": "code",
   "execution_count": 87,
   "metadata": {},
   "outputs": [],
   "source": [
    "for i in range(20):\n",
    "\n",
    "    model = Word2Vec(sentences = Corpus_list, min_count = 1, vector_size = 600, workers = 3, window = 10, epochs=i+1)\n",
    "\n",
    "    def reduce_dimensions(model):\n",
    "        num_dimensions = 2  # final num dimensions (2D, 3D, etc)\n",
    "\n",
    "        # extract the words & their vectors, as numpy arrays\n",
    "        vectors = np.asarray(model.wv.vectors)\n",
    "        labels = np.asarray(model.wv.index_to_key)  # fixed-width numpy strings\n",
    "\n",
    "        # reduce using t-SNE\n",
    "        tsne = TSNE(n_components=num_dimensions, random_state=0)\n",
    "        vectors = tsne.fit_transform(vectors)\n",
    "\n",
    "        x_vals = [v[0] for v in vectors]\n",
    "        y_vals = [v[1] for v in vectors]\n",
    "        return x_vals, y_vals, labels\n",
    "\n",
    "    def plot_with_matplotlib(x_vals, y_vals, labels):\n",
    "        import matplotlib.pyplot as plt\n",
    "        import random\n",
    "\n",
    "        random.seed(0)\n",
    "\n",
    "        plt.figure(figsize=(6, 6))\n",
    "        plt.scatter(x_vals, y_vals)\n",
    "\n",
    "        #\n",
    "        # Label randomly subsampled 25 data points\n",
    "        #\n",
    "        indices = list(range(len(labels)))\n",
    "        selected_indices = random.sample(indices, 25)\n",
    "        for j in selected_indices:\n",
    "            plt.annotate(labels[j], (x_vals[j], y_vals[j]))\n",
    "        plt.savefig(\"training_images/epoch_\" + str(i+1))\n",
    "        plt.close()\n",
    "\n",
    "    x_vals, y_vals, labels = reduce_dimensions(model)\n",
    "    plot_with_matplotlib(x_vals, y_vals, labels)"
   ]
  },
  {
   "cell_type": "code",
   "execution_count": null,
   "metadata": {},
   "outputs": [],
   "source": []
  }
 ],
 "metadata": {
  "kernelspec": {
   "display_name": "Science",
   "language": "python",
   "name": "python3"
  },
  "language_info": {
   "codemirror_mode": {
    "name": "ipython",
    "version": 3
   },
   "file_extension": ".py",
   "mimetype": "text/x-python",
   "name": "python",
   "nbconvert_exporter": "python",
   "pygments_lexer": "ipython3",
   "version": "3.10.6 | packaged by conda-forge | (main, Aug 22 2022, 20:29:51) [MSC v.1929 64 bit (AMD64)]"
  },
  "orig_nbformat": 4,
  "vscode": {
   "interpreter": {
    "hash": "a94132495860d142598aaea285fc060a9e1832a45151c3a0d158e377765afe23"
   }
  }
 },
 "nbformat": 4,
 "nbformat_minor": 2
}
