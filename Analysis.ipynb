{
 "cells": [
  {
   "cell_type": "code",
   "execution_count": 1,
   "metadata": {},
   "outputs": [],
   "source": [
    "import numpy as np\n",
    "import pandas as pd"
   ]
  },
  {
   "cell_type": "code",
   "execution_count": 2,
   "metadata": {},
   "outputs": [
    {
     "name": "stdout",
     "output_type": "stream",
     "text": [
      "Molly ate a donut\n",
      "Molly ate a fish\n",
      "Jen consumed a carp\n",
      "Lenny fears the lions\n"
     ]
    }
   ],
   "source": [
    "sentences = [\n",
    "    'Molly ate a donut',\n",
    "    'Molly ate a fish',\n",
    "    'Jen consumed a carp',\n",
    "    'Lenny fears the lions'\n",
    "]\n",
    "\n",
    "print('\\n'.join(sentences))"
   ]
  },
  {
   "cell_type": "code",
   "execution_count": 3,
   "metadata": {},
   "outputs": [
    {
     "data": {
      "text/html": [
       "<div>\n",
       "<style scoped>\n",
       "    .dataframe tbody tr th:only-of-type {\n",
       "        vertical-align: middle;\n",
       "    }\n",
       "\n",
       "    .dataframe tbody tr th {\n",
       "        vertical-align: top;\n",
       "    }\n",
       "\n",
       "    .dataframe thead th {\n",
       "        text-align: right;\n",
       "    }\n",
       "</style>\n",
       "<table border=\"1\" class=\"dataframe\">\n",
       "  <thead>\n",
       "    <tr style=\"text-align: right;\">\n",
       "      <th></th>\n",
       "      <th>ate</th>\n",
       "      <th>carp</th>\n",
       "      <th>consumed</th>\n",
       "      <th>donut</th>\n",
       "      <th>fears</th>\n",
       "      <th>fish</th>\n",
       "      <th>jen</th>\n",
       "      <th>lenny</th>\n",
       "      <th>lions</th>\n",
       "      <th>molly</th>\n",
       "      <th>the</th>\n",
       "    </tr>\n",
       "  </thead>\n",
       "  <tbody>\n",
       "    <tr>\n",
       "      <th>Molly ate a donut</th>\n",
       "      <td>1</td>\n",
       "      <td>0</td>\n",
       "      <td>0</td>\n",
       "      <td>1</td>\n",
       "      <td>0</td>\n",
       "      <td>0</td>\n",
       "      <td>0</td>\n",
       "      <td>0</td>\n",
       "      <td>0</td>\n",
       "      <td>1</td>\n",
       "      <td>0</td>\n",
       "    </tr>\n",
       "    <tr>\n",
       "      <th>Molly ate a fish</th>\n",
       "      <td>1</td>\n",
       "      <td>0</td>\n",
       "      <td>0</td>\n",
       "      <td>0</td>\n",
       "      <td>0</td>\n",
       "      <td>1</td>\n",
       "      <td>0</td>\n",
       "      <td>0</td>\n",
       "      <td>0</td>\n",
       "      <td>1</td>\n",
       "      <td>0</td>\n",
       "    </tr>\n",
       "    <tr>\n",
       "      <th>Jen consumed a carp</th>\n",
       "      <td>0</td>\n",
       "      <td>1</td>\n",
       "      <td>1</td>\n",
       "      <td>0</td>\n",
       "      <td>0</td>\n",
       "      <td>0</td>\n",
       "      <td>1</td>\n",
       "      <td>0</td>\n",
       "      <td>0</td>\n",
       "      <td>0</td>\n",
       "      <td>0</td>\n",
       "    </tr>\n",
       "    <tr>\n",
       "      <th>Lenny fears the lions</th>\n",
       "      <td>0</td>\n",
       "      <td>0</td>\n",
       "      <td>0</td>\n",
       "      <td>0</td>\n",
       "      <td>1</td>\n",
       "      <td>0</td>\n",
       "      <td>0</td>\n",
       "      <td>1</td>\n",
       "      <td>1</td>\n",
       "      <td>0</td>\n",
       "      <td>1</td>\n",
       "    </tr>\n",
       "  </tbody>\n",
       "</table>\n",
       "</div>"
      ],
      "text/plain": [
       "                       ate  carp  consumed  donut  fears  fish  jen  lenny  \\\n",
       "Molly ate a donut        1     0         0      1      0     0    0      0   \n",
       "Molly ate a fish         1     0         0      0      0     1    0      0   \n",
       "Jen consumed a carp      0     1         1      0      0     0    1      0   \n",
       "Lenny fears the lions    0     0         0      0      1     0    0      1   \n",
       "\n",
       "                       lions  molly  the  \n",
       "Molly ate a donut          0      1    0  \n",
       "Molly ate a fish           0      1    0  \n",
       "Jen consumed a carp        0      0    0  \n",
       "Lenny fears the lions      1      0    1  "
      ]
     },
     "execution_count": 3,
     "metadata": {},
     "output_type": "execute_result"
    }
   ],
   "source": [
    "from sklearn.feature_extraction.text import CountVectorizer \n",
    "\n",
    "vectorizer = CountVectorizer(binary=True)\n",
    "matrix = vectorizer.fit_transform(sentences)\n",
    "counts = pd.DataFrame(\n",
    "    matrix.toarray(),\n",
    "    index=sentences,\n",
    "    columns=vectorizer.get_feature_names_out())\n",
    "counts"
   ]
  },
  {
   "cell_type": "code",
   "execution_count": 4,
   "metadata": {},
   "outputs": [
    {
     "data": {
      "text/html": [
       "<style type=\"text/css\">\n",
       "#T_8bdd2_row0_col0, #T_8bdd2_row1_col1, #T_8bdd2_row2_col2, #T_8bdd2_row3_col3 {\n",
       "  background-color: #023858;\n",
       "  color: #f1f1f1;\n",
       "}\n",
       "#T_8bdd2_row0_col1, #T_8bdd2_row1_col0 {\n",
       "  background-color: #2685bb;\n",
       "  color: #f1f1f1;\n",
       "}\n",
       "#T_8bdd2_row0_col2, #T_8bdd2_row0_col3, #T_8bdd2_row1_col2, #T_8bdd2_row1_col3, #T_8bdd2_row2_col0, #T_8bdd2_row2_col1, #T_8bdd2_row2_col3, #T_8bdd2_row3_col0, #T_8bdd2_row3_col1, #T_8bdd2_row3_col2 {\n",
       "  background-color: #fff7fb;\n",
       "  color: #000000;\n",
       "}\n",
       "</style>\n",
       "<table id=\"T_8bdd2\">\n",
       "  <thead>\n",
       "    <tr>\n",
       "      <th class=\"blank level0\" >&nbsp;</th>\n",
       "      <th id=\"T_8bdd2_level0_col0\" class=\"col_heading level0 col0\" >Molly ate a donut</th>\n",
       "      <th id=\"T_8bdd2_level0_col1\" class=\"col_heading level0 col1\" >Molly ate a fish</th>\n",
       "      <th id=\"T_8bdd2_level0_col2\" class=\"col_heading level0 col2\" >Jen consumed a carp</th>\n",
       "      <th id=\"T_8bdd2_level0_col3\" class=\"col_heading level0 col3\" >Lenny fears the lions</th>\n",
       "    </tr>\n",
       "  </thead>\n",
       "  <tbody>\n",
       "    <tr>\n",
       "      <th id=\"T_8bdd2_level0_row0\" class=\"row_heading level0 row0\" >Molly ate a donut</th>\n",
       "      <td id=\"T_8bdd2_row0_col0\" class=\"data row0 col0\" >1.000000</td>\n",
       "      <td id=\"T_8bdd2_row0_col1\" class=\"data row0 col1\" >0.666667</td>\n",
       "      <td id=\"T_8bdd2_row0_col2\" class=\"data row0 col2\" >0.000000</td>\n",
       "      <td id=\"T_8bdd2_row0_col3\" class=\"data row0 col3\" >0.000000</td>\n",
       "    </tr>\n",
       "    <tr>\n",
       "      <th id=\"T_8bdd2_level0_row1\" class=\"row_heading level0 row1\" >Molly ate a fish</th>\n",
       "      <td id=\"T_8bdd2_row1_col0\" class=\"data row1 col0\" >0.666667</td>\n",
       "      <td id=\"T_8bdd2_row1_col1\" class=\"data row1 col1\" >1.000000</td>\n",
       "      <td id=\"T_8bdd2_row1_col2\" class=\"data row1 col2\" >0.000000</td>\n",
       "      <td id=\"T_8bdd2_row1_col3\" class=\"data row1 col3\" >0.000000</td>\n",
       "    </tr>\n",
       "    <tr>\n",
       "      <th id=\"T_8bdd2_level0_row2\" class=\"row_heading level0 row2\" >Jen consumed a carp</th>\n",
       "      <td id=\"T_8bdd2_row2_col0\" class=\"data row2 col0\" >0.000000</td>\n",
       "      <td id=\"T_8bdd2_row2_col1\" class=\"data row2 col1\" >0.000000</td>\n",
       "      <td id=\"T_8bdd2_row2_col2\" class=\"data row2 col2\" >1.000000</td>\n",
       "      <td id=\"T_8bdd2_row2_col3\" class=\"data row2 col3\" >0.000000</td>\n",
       "    </tr>\n",
       "    <tr>\n",
       "      <th id=\"T_8bdd2_level0_row3\" class=\"row_heading level0 row3\" >Lenny fears the lions</th>\n",
       "      <td id=\"T_8bdd2_row3_col0\" class=\"data row3 col0\" >0.000000</td>\n",
       "      <td id=\"T_8bdd2_row3_col1\" class=\"data row3 col1\" >0.000000</td>\n",
       "      <td id=\"T_8bdd2_row3_col2\" class=\"data row3 col2\" >0.000000</td>\n",
       "      <td id=\"T_8bdd2_row3_col3\" class=\"data row3 col3\" >1.000000</td>\n",
       "    </tr>\n",
       "  </tbody>\n",
       "</table>\n"
      ],
      "text/plain": [
       "<pandas.io.formats.style.Styler at 0x155c7b31e70>"
      ]
     },
     "execution_count": 4,
     "metadata": {},
     "output_type": "execute_result"
    }
   ],
   "source": [
    "from sklearn.metrics.pairwise import cosine_similarity\n",
    "\n",
    "# Compute the similarities using the word counts\n",
    "similarities = cosine_similarity(matrix)\n",
    "\n",
    "# Make a fancy colored dataframe about it\n",
    "pd.DataFrame(similarities,\n",
    "             index=sentences,\n",
    "             columns=sentences) \\\n",
    "            .style \\\n",
    "            .background_gradient(axis=None)"
   ]
  },
  {
   "cell_type": "code",
   "execution_count": 7,
   "metadata": {},
   "outputs": [],
   "source": [
    "import spacy\n",
    "\n",
    "nlp = spacy.load(\"en_core_web_sm\")"
   ]
  },
  {
   "cell_type": "code",
   "execution_count": 10,
   "metadata": {},
   "outputs": [
    {
     "data": {
      "text/plain": [
       "array([ 2.0860276 ,  0.7803842 ,  0.20159206, -1.28282   , -1.5474837 ,\n",
       "        0.47157538,  0.3883854 ,  0.7717205 ,  1.1035886 , -0.33745673,\n",
       "       -0.86791813, -0.7204295 ,  0.6183014 , -0.32314768, -0.82261956,\n",
       "       -0.20434552, -0.6263491 ,  0.93535054,  0.7537019 , -0.40026405,\n",
       "        0.09017381, -0.38332236, -0.47405103,  1.5803869 ,  1.1813339 ,\n",
       "        0.79796267,  0.16633701,  0.609073  ,  0.7507337 ,  0.68391263,\n",
       "        0.04651658,  0.33379614, -1.1364949 , -0.72270274, -0.28555137,\n",
       "        1.1861582 , -0.5686623 ,  0.36767524, -0.30950528,  0.6826811 ,\n",
       "       -0.00347298,  1.1778853 , -0.27158564, -0.9354117 , -0.41762415,\n",
       "       -0.7822131 ,  0.38916755,  1.4292797 , -0.11505154,  0.48539934,\n",
       "       -0.46302786, -1.720025  , -0.7341925 , -1.6413456 ,  0.03816861,\n",
       "        0.1438995 , -1.593693  , -0.81107455, -0.31180072, -0.09018594,\n",
       "       -0.97376084, -0.67782843,  0.04011485, -0.6208818 ,  0.70654297,\n",
       "        0.8080195 , -0.17157346,  0.12769684,  0.42583132, -1.3039486 ,\n",
       "        1.1155831 , -0.15254942, -0.24781887, -0.08280417,  0.24470367,\n",
       "       -0.5071803 ,  0.7685232 , -0.37867025, -0.54830635,  1.6957214 ,\n",
       "        0.19851317, -0.8196007 , -0.43825346, -0.6427739 ,  1.3873032 ,\n",
       "        1.612221  , -0.4641065 ,  0.48054075, -1.8185763 ,  0.2798317 ,\n",
       "       -0.8851618 ,  0.08971536, -0.05441017,  0.8555307 ,  0.4323051 ,\n",
       "        0.6909381 ], dtype=float32)"
      ]
     },
     "execution_count": 10,
     "metadata": {},
     "output_type": "execute_result"
    }
   ],
   "source": [
    "nlp('cat').vector"
   ]
  },
  {
   "cell_type": "code",
   "execution_count": 13,
   "metadata": {},
   "outputs": [
    {
     "data": {
      "text/plain": [
       "numpy.ndarray"
      ]
     },
     "execution_count": 13,
     "metadata": {},
     "output_type": "execute_result"
    }
   ],
   "source": [
    "nlp('Some people have never eaten a taco').vector"
   ]
  },
  {
   "cell_type": "code",
   "execution_count": 14,
   "metadata": {},
   "outputs": [
    {
     "name": "stdout",
     "output_type": "stream",
     "text": [
      "We have 4 different vectors\n",
      "And the first one has 96 measurements\n",
      "And the second one has 96 measurements\n",
      "And the third one has 96 measurements\n",
      "And the fourth one has 96 measurements\n"
     ]
    }
   ],
   "source": [
    "# We aren't printing this because it's 3 * 300 = 900 numbers\n",
    "vectors = [nlp(sentence).vector for sentence in sentences]\n",
    "\n",
    "# Print out some notes about it\n",
    "print(\"We have\", len(vectors), \"different vectors\")\n",
    "print(\"And the first one has\", len(vectors[0]), \"measurements\")\n",
    "print(\"And the second one has\", len(vectors[1]), \"measurements\")\n",
    "print(\"And the third one has\", len(vectors[2]), \"measurements\")\n",
    "print(\"And the fourth one has\", len(vectors[3]), \"measurements\")"
   ]
  },
  {
   "cell_type": "code",
   "execution_count": 15,
   "metadata": {},
   "outputs": [
    {
     "data": {
      "text/html": [
       "<style type=\"text/css\">\n",
       "#T_190b8_row0_col0, #T_190b8_row1_col1, #T_190b8_row2_col2, #T_190b8_row3_col3 {\n",
       "  background-color: #023858;\n",
       "  color: #f1f1f1;\n",
       "}\n",
       "#T_190b8_row0_col1, #T_190b8_row1_col0 {\n",
       "  background-color: #056ba9;\n",
       "  color: #f1f1f1;\n",
       "}\n",
       "#T_190b8_row0_col2, #T_190b8_row2_col0 {\n",
       "  background-color: #5c9fc9;\n",
       "  color: #f1f1f1;\n",
       "}\n",
       "#T_190b8_row0_col3, #T_190b8_row3_col0 {\n",
       "  background-color: #fff7fb;\n",
       "  color: #000000;\n",
       "}\n",
       "#T_190b8_row1_col2, #T_190b8_row2_col1 {\n",
       "  background-color: #4897c4;\n",
       "  color: #f1f1f1;\n",
       "}\n",
       "#T_190b8_row1_col3, #T_190b8_row3_col1 {\n",
       "  background-color: #dad9ea;\n",
       "  color: #000000;\n",
       "}\n",
       "#T_190b8_row2_col3, #T_190b8_row3_col2 {\n",
       "  background-color: #7eadd1;\n",
       "  color: #f1f1f1;\n",
       "}\n",
       "</style>\n",
       "<table id=\"T_190b8\">\n",
       "  <thead>\n",
       "    <tr>\n",
       "      <th class=\"blank level0\" >&nbsp;</th>\n",
       "      <th id=\"T_190b8_level0_col0\" class=\"col_heading level0 col0\" >Molly ate a donut</th>\n",
       "      <th id=\"T_190b8_level0_col1\" class=\"col_heading level0 col1\" >Molly ate a fish</th>\n",
       "      <th id=\"T_190b8_level0_col2\" class=\"col_heading level0 col2\" >Jen consumed a carp</th>\n",
       "      <th id=\"T_190b8_level0_col3\" class=\"col_heading level0 col3\" >Lenny fears the lions</th>\n",
       "    </tr>\n",
       "  </thead>\n",
       "  <tbody>\n",
       "    <tr>\n",
       "      <th id=\"T_190b8_level0_row0\" class=\"row_heading level0 row0\" >Molly ate a donut</th>\n",
       "      <td id=\"T_190b8_row0_col0\" class=\"data row0 col0\" >1.000000</td>\n",
       "      <td id=\"T_190b8_row0_col1\" class=\"data row0 col1\" >0.812000</td>\n",
       "      <td id=\"T_190b8_row0_col2\" class=\"data row0 col2\" >0.620459</td>\n",
       "      <td id=\"T_190b8_row0_col3\" class=\"data row0 col3\" >0.158913</td>\n",
       "    </tr>\n",
       "    <tr>\n",
       "      <th id=\"T_190b8_level0_row1\" class=\"row_heading level0 row1\" >Molly ate a fish</th>\n",
       "      <td id=\"T_190b8_row1_col0\" class=\"data row1 col0\" >0.812000</td>\n",
       "      <td id=\"T_190b8_row1_col1\" class=\"data row1 col1\" >1.000000</td>\n",
       "      <td id=\"T_190b8_row1_col2\" class=\"data row1 col2\" >0.652032</td>\n",
       "      <td id=\"T_190b8_row1_col3\" class=\"data row1 col3\" >0.332671</td>\n",
       "    </tr>\n",
       "    <tr>\n",
       "      <th id=\"T_190b8_level0_row2\" class=\"row_heading level0 row2\" >Jen consumed a carp</th>\n",
       "      <td id=\"T_190b8_row2_col0\" class=\"data row2 col0\" >0.620459</td>\n",
       "      <td id=\"T_190b8_row2_col1\" class=\"data row2 col1\" >0.652032</td>\n",
       "      <td id=\"T_190b8_row2_col2\" class=\"data row2 col2\" >1.000000</td>\n",
       "      <td id=\"T_190b8_row2_col3\" class=\"data row2 col3\" >0.558610</td>\n",
       "    </tr>\n",
       "    <tr>\n",
       "      <th id=\"T_190b8_level0_row3\" class=\"row_heading level0 row3\" >Lenny fears the lions</th>\n",
       "      <td id=\"T_190b8_row3_col0\" class=\"data row3 col0\" >0.158913</td>\n",
       "      <td id=\"T_190b8_row3_col1\" class=\"data row3 col1\" >0.332671</td>\n",
       "      <td id=\"T_190b8_row3_col2\" class=\"data row3 col2\" >0.558610</td>\n",
       "      <td id=\"T_190b8_row3_col3\" class=\"data row3 col3\" >1.000000</td>\n",
       "    </tr>\n",
       "  </tbody>\n",
       "</table>\n"
      ],
      "text/plain": [
       "<pandas.io.formats.style.Styler at 0x155c7b31c30>"
      ]
     },
     "execution_count": 15,
     "metadata": {},
     "output_type": "execute_result"
    }
   ],
   "source": [
    "# Compute similarities\n",
    "similarities = cosine_similarity(vectors)\n",
    "\n",
    "# Turn into a dataframe\n",
    "pd.DataFrame(similarities,\n",
    "            index=sentences,\n",
    "            columns=sentences) \\\n",
    "            .style \\\n",
    "            .background_gradient(axis=None)"
   ]
  },
  {
   "cell_type": "code",
   "execution_count": 17,
   "metadata": {},
   "outputs": [
    {
     "data": {
      "text/html": [
       "<style type=\"text/css\">\n",
       "#T_7e951_row0_col0, #T_7e951_row1_col1, #T_7e951_row2_col2 {\n",
       "  background-color: #023858;\n",
       "  color: #f1f1f1;\n",
       "}\n",
       "#T_7e951_row0_col1, #T_7e951_row1_col0 {\n",
       "  background-color: #f2ecf5;\n",
       "  color: #000000;\n",
       "}\n",
       "#T_7e951_row0_col2, #T_7e951_row2_col0 {\n",
       "  background-color: #fff7fb;\n",
       "  color: #000000;\n",
       "}\n",
       "#T_7e951_row1_col2, #T_7e951_row2_col1 {\n",
       "  background-color: #358fc0;\n",
       "  color: #f1f1f1;\n",
       "}\n",
       "</style>\n",
       "<table id=\"T_7e951\">\n",
       "  <thead>\n",
       "    <tr>\n",
       "      <th class=\"blank level0\" >&nbsp;</th>\n",
       "      <th id=\"T_7e951_level0_col0\" class=\"col_heading level0 col0\" >Veronica hates mustard. I hate you.</th>\n",
       "      <th id=\"T_7e951_level0_col1\" class=\"col_heading level0 col1\" >Veronica loves ketchup</th>\n",
       "      <th id=\"T_7e951_level0_col2\" class=\"col_heading level0 col2\" >Joseph hates ketchup</th>\n",
       "    </tr>\n",
       "  </thead>\n",
       "  <tbody>\n",
       "    <tr>\n",
       "      <th id=\"T_7e951_level0_row0\" class=\"row_heading level0 row0\" >Veronica hates mustard. I hate you.</th>\n",
       "      <td id=\"T_7e951_row0_col0\" class=\"data row0 col0\" >1.000000</td>\n",
       "      <td id=\"T_7e951_row0_col1\" class=\"data row0 col1\" >0.549820</td>\n",
       "      <td id=\"T_7e951_row0_col2\" class=\"data row0 col2\" >0.506746</td>\n",
       "    </tr>\n",
       "    <tr>\n",
       "      <th id=\"T_7e951_level0_row1\" class=\"row_heading level0 row1\" >Veronica loves ketchup</th>\n",
       "      <td id=\"T_7e951_row1_col0\" class=\"data row1 col0\" >0.549820</td>\n",
       "      <td id=\"T_7e951_row1_col1\" class=\"data row1 col1\" >1.000000</td>\n",
       "      <td id=\"T_7e951_row1_col2\" class=\"data row1 col2\" >0.815793</td>\n",
       "    </tr>\n",
       "    <tr>\n",
       "      <th id=\"T_7e951_level0_row2\" class=\"row_heading level0 row2\" >Joseph hates ketchup</th>\n",
       "      <td id=\"T_7e951_row2_col0\" class=\"data row2 col0\" >0.506746</td>\n",
       "      <td id=\"T_7e951_row2_col1\" class=\"data row2 col1\" >0.815793</td>\n",
       "      <td id=\"T_7e951_row2_col2\" class=\"data row2 col2\" >1.000000</td>\n",
       "    </tr>\n",
       "  </tbody>\n",
       "</table>\n"
      ],
      "text/plain": [
       "<pandas.io.formats.style.Styler at 0x155f13c11b0>"
      ]
     },
     "execution_count": 17,
     "metadata": {},
     "output_type": "execute_result"
    }
   ],
   "source": [
    "# Here are our sentences\n",
    "sentences = [\n",
    "    'Veronica hates mustard. I hate you.',\n",
    "    'Veronica loves ketchup',\n",
    "    'Joseph hates ketchup',\n",
    "]\n",
    "\n",
    "# Turn into vectors\n",
    "vectors = [nlp(sentence).vector for sentence in sentences]\n",
    "\n",
    "# Compute similarities\n",
    "similarities = cosine_similarity(vectors)\n",
    "\n",
    "# Turn into a dataframe\n",
    "pd.DataFrame(similarities,\n",
    "            index=sentences,\n",
    "            columns=sentences) \\\n",
    "            .style \\\n",
    "            .background_gradient(axis=None)"
   ]
  },
  {
   "cell_type": "code",
   "execution_count": null,
   "metadata": {},
   "outputs": [],
   "source": []
  },
  {
   "attachments": {},
   "cell_type": "markdown",
   "metadata": {},
   "source": [
    "## Testing with Gensim"
   ]
  },
  {
   "cell_type": "code",
   "execution_count": 1,
   "metadata": {},
   "outputs": [],
   "source": [
    "from gensim.utils import simple_preprocess\n",
    "from gensim.models.phrases import Phrases #, ENGLISH_CONNECTOR_WORDS\n",
    "from gensim.models import Word2Vec\n",
    "\n",
    "import pandas as pd"
   ]
  },
  {
   "cell_type": "code",
   "execution_count": 2,
   "metadata": {},
   "outputs": [],
   "source": [
    "Letter = '''My dear Madam,—I now take my pen to write a few lines, as I have been\n",
    "thinking of doing so a long time. I often think of you, and I daresay you\n",
    "would like to hear about the school out here. I have sixty girls that attend\n",
    "nice and regularly. I used to have three girls to assist me, but one of them\n",
    "has left for Queenstown, where her father has undertaken the native\n",
    "school. My first class are now able to read in the third reading books, and\n",
    "in compound long division sums. They already know a little geography of\n",
    "this world, and they are more fond of it than I used to be. I teach them\n",
    "the map of Palestine, to make them understand what they are learning. I\n",
    "tell them it all in Kafir [Xhosa], and it makes it quite interesting to them.\n",
    "The Kafir has all come back to me quite natural. The second class read\n",
    "Letterto Miss Mackenzie 113\n",
    "Peep of Day, and are in addition and subtraction sums. We have a nice\n",
    "large school-room.'''\n"
   ]
  },
  {
   "cell_type": "code",
   "execution_count": 3,
   "metadata": {},
   "outputs": [
    {
     "name": "stdout",
     "output_type": "stream",
     "text": [
      "[['my', 'dear', 'madam', 'i', 'now', 'take', 'my', 'pen', 'to', 'write', 'a', 'few', 'lines', 'as', 'i', 'have', 'been', 'thinking', 'of', 'doing', 'so', 'a', 'long', 'time'], ['i', 'often', 'think', 'of', 'you', 'and', 'i', 'daresay', 'you', 'would', 'like', 'to', 'hear', 'about', 'the', 'school', 'out', 'here'], ['i', 'have', 'sixty', 'girls', 'that', 'attend', 'nice', 'and', 'regularly'], ['i', 'used', 'to', 'have', 'three', 'girls', 'to', 'assist', 'me', 'but', 'one', 'of', 'them', 'has', 'left', 'for', 'queenstown', 'where', 'her', 'father', 'has', 'undertaken', 'the', 'native', 'school'], ['my', 'first', 'class', 'are', 'now', 'able', 'to', 'read', 'in', 'the', 'third', 'reading', 'books', 'and', 'in', 'compound', 'long', 'division', 'sums'], ['they', 'already', 'know', 'a', 'little', 'geography', 'of', 'this', 'world', 'and', 'they', 'are', 'more', 'fond', 'of', 'it', 'than', 'i', 'used', 'to', 'be'], ['i', 'teach', 'them', 'the', 'map', 'of', 'palestine', 'to', 'make', 'them', 'understand', 'what', 'they', 'are', 'learning'], ['i', 'tell', 'them', 'it', 'all', 'in', 'kafir', 'xhosa', 'and', 'it', 'makes', 'it', 'quite', 'interesting', 'to', 'them', 'the', 'kafir', 'has', 'all', 'come', 'back', 'to', 'me', 'quite', 'natural'], ['the', 'second', 'class', 'read', 'letterto', 'miss', 'mackenzie', 'peep', 'of', 'day', 'and', 'are', 'in', 'addition', 'and', 'subtraction', 'sums'], ['we', 'have', 'a', 'nice', 'large', 'school', 'room']]\n"
     ]
    }
   ],
   "source": [
    "Letter_list = [x.replace(\"\\n\",\" \").replace(\".\", \"\") for x in Letter.split(\". \")]\n",
    "Letter_list = [simple_preprocess(x, deacc=True, max_len=50, min_len=1) for x in Letter_list]\n",
    "print(Letter_list)"
   ]
  },
  {
   "cell_type": "code",
   "execution_count": 4,
   "metadata": {},
   "outputs": [],
   "source": [
    "model = Word2Vec(sentences = Letter_list, min_count = 1, vector_size = 600, workers = 3, window = 10)"
   ]
  },
  {
   "cell_type": "code",
   "execution_count": 5,
   "metadata": {},
   "outputs": [
    {
     "data": {
      "text/plain": [
       "dict_keys(['i', 'to', 'and', 'of', 'the', 'them', 'have', 'are', 'in', 'a', 'it', 'my', 'they', 'school', 'has', 'quite', 'long', 'girls', 'nice', 'now', 'read', 'class', 'used', 'you', 'me', 'all', 'kafir', 'sums', 'assist', 'three', 'take', 'but', 'madam', 'regularly', 'one', 'attend', 'that', 'dear', 'sixty', 'out', 'here', 'lines', 'thinking', 'as', 'doing', 'so', 'time', 'often', 'think', 'left', 'been', 'few', 'would', 'like', 'hear', 'about', 'write', 'pen', 'daresay', 'room', 'for', 'queenstown', 'palestine', 'make', 'understand', 'what', 'learning', 'tell', 'xhosa', 'makes', 'interesting', 'come', 'back', 'natural', 'second', 'letterto', 'miss', 'mackenzie', 'peep', 'day', 'addition', 'subtraction', 'we', 'map', 'teach', 'be', 'books', 'where', 'her', 'large', 'undertaken', 'native', 'first', 'able', 'third', 'reading', 'compound', 'than', 'division', 'already', 'know', 'little', 'geography', 'this', 'world', 'more', 'fond', 'father'])"
      ]
     },
     "execution_count": 5,
     "metadata": {},
     "output_type": "execute_result"
    }
   ],
   "source": [
    "model.wv.key_to_index.keys()"
   ]
  },
  {
   "cell_type": "code",
   "execution_count": 7,
   "metadata": {},
   "outputs": [
    {
     "data": {
      "text/plain": [
       "array([-1.72422806e-04, -1.35407224e-03,  1.16094342e-03,  1.27843872e-03,\n",
       "       -9.38190613e-04, -1.15234521e-03, -1.50250585e-03, -1.14931187e-04,\n",
       "        1.36371003e-03, -1.63611199e-03, -1.09613800e-04,  1.31192908e-03,\n",
       "        7.82938092e-04, -6.58064018e-05, -5.14253392e-04,  1.00325793e-03,\n",
       "       -3.97983997e-04,  2.44141964e-04, -8.36447929e-04,  7.42785924e-05,\n",
       "       -3.73289280e-04, -1.60904729e-03,  9.42486513e-04, -1.74680186e-04,\n",
       "       -1.31686195e-03, -3.30631621e-04,  6.14933262e-04, -3.66324530e-04,\n",
       "        1.00784539e-03,  2.04706885e-04, -9.45079722e-04, -3.51231691e-04,\n",
       "       -2.33610772e-04,  1.67025614e-03,  1.08399265e-03, -1.66515424e-03,\n",
       "       -5.85437228e-05, -1.65538210e-03, -1.48262689e-03,  6.61775877e-04,\n",
       "        9.25589295e-04,  1.49562466e-03, -1.21386314e-03, -9.83968377e-04,\n",
       "        1.35951757e-03, -1.06621289e-03, -1.51796587e-04, -4.16996452e-04,\n",
       "        1.54880306e-03,  8.35067593e-04, -2.29410623e-04, -1.46716393e-05,\n",
       "        8.31816171e-04,  4.93641885e-04, -7.32182700e-04,  9.90531058e-04,\n",
       "        1.23776135e-03, -1.22756755e-04,  3.92920076e-04, -8.02459981e-05,\n",
       "        1.49753399e-03,  5.34343417e-04, -9.18585400e-04,  4.27624735e-04,\n",
       "       -5.60644898e-04, -9.72734648e-04,  1.30210049e-03, -1.18417176e-03,\n",
       "       -1.37380522e-03, -4.98728710e-04, -8.55225313e-04,  1.13166496e-03,\n",
       "       -6.58528239e-04,  1.06375525e-03, -1.10819878e-03, -1.65986101e-04,\n",
       "       -1.35513686e-03,  6.05850597e-04,  1.39894418e-03,  1.13737048e-03,\n",
       "        4.17635529e-05,  1.05986325e-03,  1.27973349e-03,  2.47027230e-04,\n",
       "        1.49669941e-03, -7.03000173e-04,  4.20258439e-04,  1.17275119e-03,\n",
       "        1.47404498e-04,  6.95073395e-04, -1.17469882e-03,  1.36109302e-03,\n",
       "       -1.21186196e-03,  1.55758869e-03,  1.02797721e-03, -8.60479428e-04,\n",
       "       -1.48247310e-03, -8.94028170e-04,  9.92900459e-04,  2.45828356e-04,\n",
       "       -1.03073858e-03, -1.13444030e-03, -1.27787015e-03, -1.20706281e-04,\n",
       "       -1.27870380e-03,  5.54227503e-04, -4.36899689e-04,  2.96965067e-04,\n",
       "        4.71908133e-04,  6.00824133e-04,  8.60565342e-04,  1.15674443e-03,\n",
       "        1.07803186e-04, -7.96293607e-04,  1.13192841e-03,  7.41263677e-04,\n",
       "        1.02396309e-03, -2.63679511e-04, -4.94692067e-04,  2.10807295e-04,\n",
       "        4.45238082e-04, -5.59404609e-04, -2.05395409e-04,  1.29279913e-03,\n",
       "        3.26849811e-04,  1.09852036e-03,  1.45914382e-03, -3.12962111e-05,\n",
       "       -7.49228522e-04, -5.38967492e-04, -7.71055813e-04, -1.22322992e-03,\n",
       "       -1.80673742e-04,  1.46037992e-03, -1.22630491e-03,  2.04221578e-04,\n",
       "        9.07233276e-04, -2.93324993e-04,  3.25355417e-04,  8.39414890e-04,\n",
       "       -1.08727475e-03,  4.74813831e-04,  5.22415095e-04,  1.54848781e-03,\n",
       "       -1.34361081e-03,  1.32155139e-03, -1.61152636e-03, -4.12184338e-04,\n",
       "        8.20232206e-04, -1.55594468e-03, -4.90516657e-04, -9.48818226e-04,\n",
       "        6.46258355e-04,  9.05489942e-05,  2.22046016e-04, -9.89822438e-04,\n",
       "       -3.20030405e-04, -1.21757539e-03, -1.07501447e-03,  1.41918811e-03,\n",
       "       -1.48734578e-03,  4.31197637e-04, -3.86217493e-04, -1.17083115e-03,\n",
       "       -4.37101378e-04, -1.22147228e-03,  8.82994849e-04,  3.05534049e-04,\n",
       "       -5.38640074e-04,  5.12398197e-04, -1.32262905e-03,  6.60513178e-05,\n",
       "        1.53570483e-03,  1.33518688e-03, -4.13943460e-04,  1.41837995e-03,\n",
       "       -1.39728980e-03,  7.63449410e-04,  6.55921700e-04, -1.13860425e-03,\n",
       "        1.18925446e-03, -7.46965932e-04,  2.20284619e-06, -9.35976568e-05,\n",
       "        5.01792820e-04, -9.71692265e-04, -1.45174726e-03, -7.54317211e-04,\n",
       "        8.72588891e-04, -3.87889129e-04, -3.03455949e-04,  1.58953550e-03,\n",
       "       -1.26706075e-03, -1.22825929e-03,  9.83399921e-04,  4.86295816e-04,\n",
       "        9.37933335e-04,  7.81830284e-04, -6.58686564e-04, -4.08336578e-04,\n",
       "       -1.24687760e-03,  2.98108411e-04,  1.06325455e-03,  1.35893922e-03,\n",
       "        5.41623216e-04, -1.25471770e-03, -1.30478526e-03,  1.44876714e-03,\n",
       "        1.26916193e-03,  7.04385282e-04, -1.06976239e-03, -5.17147826e-04,\n",
       "       -1.06414803e-03, -3.81708756e-04, -1.05883600e-03, -5.04766067e-04,\n",
       "        1.42462668e-03, -6.55764190e-04,  7.25545906e-05,  1.32137851e-03,\n",
       "       -2.46651936e-04, -1.08731131e-03, -2.34321938e-04, -8.23953596e-04,\n",
       "       -1.07108837e-03,  5.41910878e-04, -1.51118950e-03, -4.54926834e-04,\n",
       "       -1.08921831e-03,  8.83594796e-04,  3.03319510e-04,  1.01659889e-03,\n",
       "       -1.23621244e-03, -1.07779878e-03,  1.52238260e-03,  4.66095458e-04,\n",
       "       -4.71589192e-06, -1.50612241e-03,  6.82922837e-04, -7.28362866e-05,\n",
       "       -5.94278914e-04,  1.33377162e-03, -1.43539917e-03, -9.08071466e-04,\n",
       "       -9.31216637e-04, -1.44128664e-03, -9.13269061e-04, -6.55795622e-04,\n",
       "       -1.66219671e-03,  2.20299276e-04,  2.31284866e-04, -4.56911774e-04,\n",
       "        1.63671281e-03, -7.90691760e-04, -1.31497649e-03,  1.38503208e-03,\n",
       "       -1.18243473e-03,  3.13384051e-04,  1.38998847e-03, -1.41222437e-03,\n",
       "        1.18251010e-04,  2.77842861e-04,  4.28311818e-04, -5.12560538e-04,\n",
       "        1.07908784e-03, -1.11344666e-03, -1.65843740e-04,  4.37765004e-04,\n",
       "       -1.02936372e-03, -1.48889143e-03, -1.17356284e-03,  1.62340948e-04,\n",
       "        6.41614315e-05,  1.20023603e-03, -1.45951775e-03, -8.01285554e-04,\n",
       "       -7.87382131e-04, -2.29706959e-04,  1.25871541e-03, -1.29860372e-03,\n",
       "       -9.30586320e-05, -7.58541923e-04,  1.13316614e-03, -3.90316563e-04,\n",
       "        9.28177789e-04, -2.85828661e-04, -1.54281280e-03, -1.12532766e-03,\n",
       "       -5.12441853e-04, -1.19092211e-03, -4.02475707e-04,  1.02922041e-03,\n",
       "       -2.46948242e-04,  9.34591051e-04, -1.37061405e-03,  1.66570710e-03,\n",
       "        5.02391660e-04, -8.09455931e-04, -1.12487935e-03,  1.29712862e-04,\n",
       "       -8.37346422e-04, -1.71845400e-04, -2.30976628e-04,  2.18221467e-04,\n",
       "       -8.47731426e-04,  1.08786509e-03,  9.43348277e-04,  5.15632681e-04,\n",
       "       -1.46118295e-03, -5.40095614e-04, -1.84455625e-04,  3.89612571e-04,\n",
       "        1.09353522e-03,  1.60701736e-03, -1.32842257e-03,  1.09824282e-03,\n",
       "       -8.55010177e-04,  7.86689459e-04, -7.15811388e-04, -8.97028658e-04,\n",
       "        1.11936184e-04, -1.16136426e-03, -1.49834633e-03, -1.58843247e-03,\n",
       "        3.23429675e-04, -3.49775684e-04, -1.65728282e-03, -1.12580729e-03,\n",
       "       -4.49771062e-04,  1.60567975e-03,  4.75199427e-04,  3.55065567e-04,\n",
       "        1.11102883e-03, -1.36893569e-03, -7.11694942e-04, -7.44641060e-04,\n",
       "       -9.10235452e-04, -3.05279827e-04, -5.43330971e-04,  6.51743030e-04,\n",
       "       -1.31907803e-03,  7.64015596e-04,  6.02849002e-04,  1.88373859e-04,\n",
       "       -1.00672035e-03,  1.08158705e-03,  4.92796768e-04,  1.05997827e-03,\n",
       "        3.36394703e-04, -3.07251496e-04,  1.65198219e-03,  4.84595250e-04,\n",
       "        1.52274745e-03, -4.41760349e-04, -1.38005149e-03, -9.47021588e-04,\n",
       "       -1.15672546e-03,  2.50352139e-04, -7.11767236e-04,  1.65780168e-03,\n",
       "       -1.33738655e-03,  1.65002502e-03, -7.51297455e-04,  3.33831878e-04,\n",
       "        2.95733364e-04,  1.05664403e-04, -7.34478526e-04,  1.89449565e-04,\n",
       "       -1.55714026e-03, -1.61595165e-03, -9.97325173e-04, -9.56425618e-04,\n",
       "       -1.37501524e-03,  6.90844827e-05, -9.76789510e-04,  1.19367416e-03,\n",
       "       -1.56857853e-03,  5.71081822e-04, -1.09691126e-03,  8.49013275e-04,\n",
       "       -1.45547464e-03, -4.26275539e-04, -1.07052177e-03,  9.72171780e-04,\n",
       "       -9.33594187e-04, -1.54762587e-04, -6.57183045e-05, -1.32399704e-03,\n",
       "       -1.39333017e-03, -1.61281833e-03,  2.89982796e-04,  2.25187614e-04,\n",
       "        1.51572726e-03, -4.89565486e-04,  1.45576661e-04,  1.22384995e-03,\n",
       "        1.43546285e-03,  1.31988118e-03,  1.18688459e-03, -2.97791237e-04,\n",
       "       -1.35580183e-03,  1.02157146e-03,  3.49467555e-05,  7.39489915e-04,\n",
       "       -5.25751566e-05, -1.93468950e-04,  1.00144790e-03,  1.40124932e-03,\n",
       "       -1.55802746e-03, -1.62171607e-04, -8.09074962e-04,  1.28840108e-03,\n",
       "        1.58592768e-04,  1.02460268e-03,  1.66424934e-03, -1.33844238e-04,\n",
       "       -1.31539628e-03,  1.61115066e-04, -1.47352472e-03, -6.25238230e-04,\n",
       "        6.25468165e-05, -4.93974425e-04, -1.08014862e-03, -7.08311098e-04,\n",
       "        3.35522840e-04,  9.40934056e-04, -4.24117257e-04,  1.24040386e-03,\n",
       "       -2.75588445e-05,  7.56859721e-04, -1.45310955e-03, -5.47167845e-04,\n",
       "        1.60854624e-03,  1.24083238e-03, -1.00985274e-03, -5.33882936e-04,\n",
       "        9.16942547e-04,  1.65515288e-03, -1.52721492e-04,  4.99358566e-06,\n",
       "        1.62981241e-03,  8.38105392e-04, -7.24259706e-04,  1.05312874e-03,\n",
       "       -6.20232197e-04, -1.06804038e-03, -4.71810228e-04,  1.59434904e-03,\n",
       "        1.43053830e-05,  1.04070095e-04, -3.73164425e-04,  8.23699811e-04,\n",
       "       -5.31516038e-04, -3.94165836e-04, -7.78428075e-05, -6.88985398e-04,\n",
       "        1.06166699e-03,  1.63555867e-03,  1.41259783e-03, -1.30941276e-03,\n",
       "        1.54640031e-04,  1.45398243e-03,  1.25847280e-03,  4.29767271e-04,\n",
       "        2.00617578e-04, -1.10672368e-03,  3.29439412e-04,  8.75076337e-04,\n",
       "       -2.66869174e-04,  1.30333588e-03, -7.63310061e-04,  1.47079048e-03,\n",
       "       -9.30779846e-04, -1.26251311e-03,  1.36594102e-03,  1.11110276e-03,\n",
       "        7.66329234e-04,  7.15535949e-04,  7.55018573e-06,  1.22927176e-03,\n",
       "       -3.77101765e-04,  1.04756688e-03, -9.33167001e-04,  8.17058899e-04,\n",
       "        5.30016841e-04, -1.46095816e-03, -1.50030933e-03, -6.41098071e-04,\n",
       "        3.24075489e-04, -8.08539102e-04,  9.40505764e-04,  1.35564024e-03,\n",
       "       -1.08016678e-03, -1.47748576e-03, -1.13706884e-03,  1.42288965e-03,\n",
       "       -1.58281182e-03, -1.45450654e-03,  9.90118831e-04,  1.04166276e-03,\n",
       "       -1.20828068e-03, -1.25157193e-03,  3.90098256e-04,  8.30724486e-04,\n",
       "        3.81539518e-04,  1.16251234e-03, -1.29726843e-03, -2.46313139e-04,\n",
       "        9.56285512e-04,  1.46158435e-03,  4.30224492e-04, -6.13593729e-04,\n",
       "        1.11814239e-03, -2.04434516e-04,  9.16775491e-04, -1.54984009e-03,\n",
       "       -9.11491516e-04,  9.34804091e-04, -1.13716675e-03, -7.69562379e-04,\n",
       "        9.23679618e-05,  5.19003777e-04, -7.78311805e-05,  6.43035339e-04,\n",
       "        4.78026923e-05,  1.14746268e-04,  1.05235400e-03, -7.37212715e-04,\n",
       "       -4.04771155e-04,  1.55575370e-04,  3.06273607e-04,  1.26749612e-04,\n",
       "       -1.30031852e-03, -2.58563028e-04,  1.43315364e-03, -1.26065337e-03,\n",
       "       -9.81916557e-04,  1.63765298e-03, -1.21047301e-03, -9.34005191e-04,\n",
       "        1.16434298e-03, -9.36363067e-04,  9.77830612e-04, -9.63784754e-04,\n",
       "       -1.28226785e-03, -1.16057624e-03, -7.28807994e-04,  1.26893388e-03,\n",
       "       -1.00110250e-03, -3.56265460e-04, -4.82009811e-04,  1.03221064e-04,\n",
       "        1.09543232e-03,  9.74457653e-04, -3.45140899e-04,  1.01147208e-03,\n",
       "       -3.28670751e-04,  9.88270040e-04,  7.83437223e-04, -8.89217248e-04,\n",
       "        1.19718281e-03,  1.31528871e-03,  8.80998094e-04, -9.14542936e-04,\n",
       "       -1.36648165e-03, -1.62373146e-03,  5.13186133e-05, -8.12082959e-04,\n",
       "       -1.37948547e-03,  1.01113622e-03,  5.61769004e-04,  3.28785798e-04,\n",
       "        2.30118661e-04, -4.78258764e-04, -1.18704513e-03, -1.33346021e-03,\n",
       "       -9.51176276e-04, -1.38033333e-03, -2.09839764e-05, -1.56597828e-03,\n",
       "       -2.20174988e-04,  1.61165174e-03,  1.13198231e-03,  2.23000869e-04,\n",
       "       -1.20815705e-03,  1.65940414e-03,  1.16621621e-03,  7.20044118e-05,\n",
       "        1.47754489e-03,  1.22884940e-03,  1.19926885e-03,  9.94818169e-04,\n",
       "       -2.23126917e-04,  1.54360943e-03, -1.59603354e-04,  2.65547395e-04,\n",
       "        7.71056861e-04,  1.27405662e-03, -1.88505635e-06, -4.89095110e-04],\n",
       "      dtype=float32)"
      ]
     },
     "execution_count": 7,
     "metadata": {},
     "output_type": "execute_result"
    }
   ],
   "source": [
    "model.wv[\"world\"]"
   ]
  },
  {
   "cell_type": "code",
   "execution_count": null,
   "metadata": {},
   "outputs": [],
   "source": []
  }
 ],
 "metadata": {
  "kernelspec": {
   "display_name": "Science",
   "language": "python",
   "name": "python3"
  },
  "language_info": {
   "codemirror_mode": {
    "name": "ipython",
    "version": 3
   },
   "file_extension": ".py",
   "mimetype": "text/x-python",
   "name": "python",
   "nbconvert_exporter": "python",
   "pygments_lexer": "ipython3",
   "version": "3.10.8 (tags/v3.10.8:aaaf517, Oct 11 2022, 16:50:30) [MSC v.1933 64 bit (AMD64)]"
  },
  "orig_nbformat": 4,
  "vscode": {
   "interpreter": {
    "hash": "504af214ce0ec8b4dcf81a313aaf26846f6496a03b9a2d2492e6c44e02d67ec3"
   }
  }
 },
 "nbformat": 4,
 "nbformat_minor": 2
}
