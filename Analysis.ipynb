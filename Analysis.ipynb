{
 "cells": [
  {
   "cell_type": "code",
   "execution_count": 1,
   "metadata": {},
   "outputs": [],
   "source": [
    "import numpy as np\n",
    "import pandas as pd"
   ]
  },
  {
   "cell_type": "code",
   "execution_count": 2,
   "metadata": {},
   "outputs": [
    {
     "name": "stdout",
     "output_type": "stream",
     "text": [
      "Molly ate a donut\n",
      "Molly ate a fish\n",
      "Jen consumed a carp\n",
      "Lenny fears the lions\n"
     ]
    }
   ],
   "source": [
    "sentences = [\n",
    "    'Molly ate a donut',\n",
    "    'Molly ate a fish',\n",
    "    'Jen consumed a carp',\n",
    "    'Lenny fears the lions'\n",
    "]\n",
    "\n",
    "print('\\n'.join(sentences))"
   ]
  },
  {
   "cell_type": "code",
   "execution_count": 3,
   "metadata": {},
   "outputs": [
    {
     "data": {
      "text/html": [
       "<div>\n",
       "<style scoped>\n",
       "    .dataframe tbody tr th:only-of-type {\n",
       "        vertical-align: middle;\n",
       "    }\n",
       "\n",
       "    .dataframe tbody tr th {\n",
       "        vertical-align: top;\n",
       "    }\n",
       "\n",
       "    .dataframe thead th {\n",
       "        text-align: right;\n",
       "    }\n",
       "</style>\n",
       "<table border=\"1\" class=\"dataframe\">\n",
       "  <thead>\n",
       "    <tr style=\"text-align: right;\">\n",
       "      <th></th>\n",
       "      <th>ate</th>\n",
       "      <th>carp</th>\n",
       "      <th>consumed</th>\n",
       "      <th>donut</th>\n",
       "      <th>fears</th>\n",
       "      <th>fish</th>\n",
       "      <th>jen</th>\n",
       "      <th>lenny</th>\n",
       "      <th>lions</th>\n",
       "      <th>molly</th>\n",
       "      <th>the</th>\n",
       "    </tr>\n",
       "  </thead>\n",
       "  <tbody>\n",
       "    <tr>\n",
       "      <th>Molly ate a donut</th>\n",
       "      <td>1</td>\n",
       "      <td>0</td>\n",
       "      <td>0</td>\n",
       "      <td>1</td>\n",
       "      <td>0</td>\n",
       "      <td>0</td>\n",
       "      <td>0</td>\n",
       "      <td>0</td>\n",
       "      <td>0</td>\n",
       "      <td>1</td>\n",
       "      <td>0</td>\n",
       "    </tr>\n",
       "    <tr>\n",
       "      <th>Molly ate a fish</th>\n",
       "      <td>1</td>\n",
       "      <td>0</td>\n",
       "      <td>0</td>\n",
       "      <td>0</td>\n",
       "      <td>0</td>\n",
       "      <td>1</td>\n",
       "      <td>0</td>\n",
       "      <td>0</td>\n",
       "      <td>0</td>\n",
       "      <td>1</td>\n",
       "      <td>0</td>\n",
       "    </tr>\n",
       "    <tr>\n",
       "      <th>Jen consumed a carp</th>\n",
       "      <td>0</td>\n",
       "      <td>1</td>\n",
       "      <td>1</td>\n",
       "      <td>0</td>\n",
       "      <td>0</td>\n",
       "      <td>0</td>\n",
       "      <td>1</td>\n",
       "      <td>0</td>\n",
       "      <td>0</td>\n",
       "      <td>0</td>\n",
       "      <td>0</td>\n",
       "    </tr>\n",
       "    <tr>\n",
       "      <th>Lenny fears the lions</th>\n",
       "      <td>0</td>\n",
       "      <td>0</td>\n",
       "      <td>0</td>\n",
       "      <td>0</td>\n",
       "      <td>1</td>\n",
       "      <td>0</td>\n",
       "      <td>0</td>\n",
       "      <td>1</td>\n",
       "      <td>1</td>\n",
       "      <td>0</td>\n",
       "      <td>1</td>\n",
       "    </tr>\n",
       "  </tbody>\n",
       "</table>\n",
       "</div>"
      ],
      "text/plain": [
       "                       ate  carp  consumed  donut  fears  fish  jen  lenny  \\\n",
       "Molly ate a donut        1     0         0      1      0     0    0      0   \n",
       "Molly ate a fish         1     0         0      0      0     1    0      0   \n",
       "Jen consumed a carp      0     1         1      0      0     0    1      0   \n",
       "Lenny fears the lions    0     0         0      0      1     0    0      1   \n",
       "\n",
       "                       lions  molly  the  \n",
       "Molly ate a donut          0      1    0  \n",
       "Molly ate a fish           0      1    0  \n",
       "Jen consumed a carp        0      0    0  \n",
       "Lenny fears the lions      1      0    1  "
      ]
     },
     "execution_count": 3,
     "metadata": {},
     "output_type": "execute_result"
    }
   ],
   "source": [
    "from sklearn.feature_extraction.text import CountVectorizer \n",
    "\n",
    "vectorizer = CountVectorizer(binary=True)\n",
    "matrix = vectorizer.fit_transform(sentences)\n",
    "counts = pd.DataFrame(\n",
    "    matrix.toarray(),\n",
    "    index=sentences,\n",
    "    columns=vectorizer.get_feature_names_out())\n",
    "counts"
   ]
  },
  {
   "cell_type": "code",
   "execution_count": 4,
   "metadata": {},
   "outputs": [
    {
     "data": {
      "text/html": [
       "<style type=\"text/css\">\n",
       "#T_8bdd2_row0_col0, #T_8bdd2_row1_col1, #T_8bdd2_row2_col2, #T_8bdd2_row3_col3 {\n",
       "  background-color: #023858;\n",
       "  color: #f1f1f1;\n",
       "}\n",
       "#T_8bdd2_row0_col1, #T_8bdd2_row1_col0 {\n",
       "  background-color: #2685bb;\n",
       "  color: #f1f1f1;\n",
       "}\n",
       "#T_8bdd2_row0_col2, #T_8bdd2_row0_col3, #T_8bdd2_row1_col2, #T_8bdd2_row1_col3, #T_8bdd2_row2_col0, #T_8bdd2_row2_col1, #T_8bdd2_row2_col3, #T_8bdd2_row3_col0, #T_8bdd2_row3_col1, #T_8bdd2_row3_col2 {\n",
       "  background-color: #fff7fb;\n",
       "  color: #000000;\n",
       "}\n",
       "</style>\n",
       "<table id=\"T_8bdd2\">\n",
       "  <thead>\n",
       "    <tr>\n",
       "      <th class=\"blank level0\" >&nbsp;</th>\n",
       "      <th id=\"T_8bdd2_level0_col0\" class=\"col_heading level0 col0\" >Molly ate a donut</th>\n",
       "      <th id=\"T_8bdd2_level0_col1\" class=\"col_heading level0 col1\" >Molly ate a fish</th>\n",
       "      <th id=\"T_8bdd2_level0_col2\" class=\"col_heading level0 col2\" >Jen consumed a carp</th>\n",
       "      <th id=\"T_8bdd2_level0_col3\" class=\"col_heading level0 col3\" >Lenny fears the lions</th>\n",
       "    </tr>\n",
       "  </thead>\n",
       "  <tbody>\n",
       "    <tr>\n",
       "      <th id=\"T_8bdd2_level0_row0\" class=\"row_heading level0 row0\" >Molly ate a donut</th>\n",
       "      <td id=\"T_8bdd2_row0_col0\" class=\"data row0 col0\" >1.000000</td>\n",
       "      <td id=\"T_8bdd2_row0_col1\" class=\"data row0 col1\" >0.666667</td>\n",
       "      <td id=\"T_8bdd2_row0_col2\" class=\"data row0 col2\" >0.000000</td>\n",
       "      <td id=\"T_8bdd2_row0_col3\" class=\"data row0 col3\" >0.000000</td>\n",
       "    </tr>\n",
       "    <tr>\n",
       "      <th id=\"T_8bdd2_level0_row1\" class=\"row_heading level0 row1\" >Molly ate a fish</th>\n",
       "      <td id=\"T_8bdd2_row1_col0\" class=\"data row1 col0\" >0.666667</td>\n",
       "      <td id=\"T_8bdd2_row1_col1\" class=\"data row1 col1\" >1.000000</td>\n",
       "      <td id=\"T_8bdd2_row1_col2\" class=\"data row1 col2\" >0.000000</td>\n",
       "      <td id=\"T_8bdd2_row1_col3\" class=\"data row1 col3\" >0.000000</td>\n",
       "    </tr>\n",
       "    <tr>\n",
       "      <th id=\"T_8bdd2_level0_row2\" class=\"row_heading level0 row2\" >Jen consumed a carp</th>\n",
       "      <td id=\"T_8bdd2_row2_col0\" class=\"data row2 col0\" >0.000000</td>\n",
       "      <td id=\"T_8bdd2_row2_col1\" class=\"data row2 col1\" >0.000000</td>\n",
       "      <td id=\"T_8bdd2_row2_col2\" class=\"data row2 col2\" >1.000000</td>\n",
       "      <td id=\"T_8bdd2_row2_col3\" class=\"data row2 col3\" >0.000000</td>\n",
       "    </tr>\n",
       "    <tr>\n",
       "      <th id=\"T_8bdd2_level0_row3\" class=\"row_heading level0 row3\" >Lenny fears the lions</th>\n",
       "      <td id=\"T_8bdd2_row3_col0\" class=\"data row3 col0\" >0.000000</td>\n",
       "      <td id=\"T_8bdd2_row3_col1\" class=\"data row3 col1\" >0.000000</td>\n",
       "      <td id=\"T_8bdd2_row3_col2\" class=\"data row3 col2\" >0.000000</td>\n",
       "      <td id=\"T_8bdd2_row3_col3\" class=\"data row3 col3\" >1.000000</td>\n",
       "    </tr>\n",
       "  </tbody>\n",
       "</table>\n"
      ],
      "text/plain": [
       "<pandas.io.formats.style.Styler at 0x155c7b31e70>"
      ]
     },
     "execution_count": 4,
     "metadata": {},
     "output_type": "execute_result"
    }
   ],
   "source": [
    "from sklearn.metrics.pairwise import cosine_similarity\n",
    "\n",
    "# Compute the similarities using the word counts\n",
    "similarities = cosine_similarity(matrix)\n",
    "\n",
    "# Make a fancy colored dataframe about it\n",
    "pd.DataFrame(similarities,\n",
    "             index=sentences,\n",
    "             columns=sentences) \\\n",
    "            .style \\\n",
    "            .background_gradient(axis=None)"
   ]
  },
  {
   "cell_type": "code",
   "execution_count": 7,
   "metadata": {},
   "outputs": [],
   "source": [
    "import spacy\n",
    "\n",
    "nlp = spacy.load(\"en_core_web_sm\")"
   ]
  },
  {
   "cell_type": "code",
   "execution_count": 10,
   "metadata": {},
   "outputs": [
    {
     "data": {
      "text/plain": [
       "array([ 2.0860276 ,  0.7803842 ,  0.20159206, -1.28282   , -1.5474837 ,\n",
       "        0.47157538,  0.3883854 ,  0.7717205 ,  1.1035886 , -0.33745673,\n",
       "       -0.86791813, -0.7204295 ,  0.6183014 , -0.32314768, -0.82261956,\n",
       "       -0.20434552, -0.6263491 ,  0.93535054,  0.7537019 , -0.40026405,\n",
       "        0.09017381, -0.38332236, -0.47405103,  1.5803869 ,  1.1813339 ,\n",
       "        0.79796267,  0.16633701,  0.609073  ,  0.7507337 ,  0.68391263,\n",
       "        0.04651658,  0.33379614, -1.1364949 , -0.72270274, -0.28555137,\n",
       "        1.1861582 , -0.5686623 ,  0.36767524, -0.30950528,  0.6826811 ,\n",
       "       -0.00347298,  1.1778853 , -0.27158564, -0.9354117 , -0.41762415,\n",
       "       -0.7822131 ,  0.38916755,  1.4292797 , -0.11505154,  0.48539934,\n",
       "       -0.46302786, -1.720025  , -0.7341925 , -1.6413456 ,  0.03816861,\n",
       "        0.1438995 , -1.593693  , -0.81107455, -0.31180072, -0.09018594,\n",
       "       -0.97376084, -0.67782843,  0.04011485, -0.6208818 ,  0.70654297,\n",
       "        0.8080195 , -0.17157346,  0.12769684,  0.42583132, -1.3039486 ,\n",
       "        1.1155831 , -0.15254942, -0.24781887, -0.08280417,  0.24470367,\n",
       "       -0.5071803 ,  0.7685232 , -0.37867025, -0.54830635,  1.6957214 ,\n",
       "        0.19851317, -0.8196007 , -0.43825346, -0.6427739 ,  1.3873032 ,\n",
       "        1.612221  , -0.4641065 ,  0.48054075, -1.8185763 ,  0.2798317 ,\n",
       "       -0.8851618 ,  0.08971536, -0.05441017,  0.8555307 ,  0.4323051 ,\n",
       "        0.6909381 ], dtype=float32)"
      ]
     },
     "execution_count": 10,
     "metadata": {},
     "output_type": "execute_result"
    }
   ],
   "source": [
    "nlp('cat').vector"
   ]
  },
  {
   "cell_type": "code",
   "execution_count": 13,
   "metadata": {},
   "outputs": [
    {
     "data": {
      "text/plain": [
       "numpy.ndarray"
      ]
     },
     "execution_count": 13,
     "metadata": {},
     "output_type": "execute_result"
    }
   ],
   "source": [
    "nlp('Some people have never eaten a taco').vector"
   ]
  },
  {
   "cell_type": "code",
   "execution_count": 14,
   "metadata": {},
   "outputs": [
    {
     "name": "stdout",
     "output_type": "stream",
     "text": [
      "We have 4 different vectors\n",
      "And the first one has 96 measurements\n",
      "And the second one has 96 measurements\n",
      "And the third one has 96 measurements\n",
      "And the fourth one has 96 measurements\n"
     ]
    }
   ],
   "source": [
    "# We aren't printing this because it's 3 * 300 = 900 numbers\n",
    "vectors = [nlp(sentence).vector for sentence in sentences]\n",
    "\n",
    "# Print out some notes about it\n",
    "print(\"We have\", len(vectors), \"different vectors\")\n",
    "print(\"And the first one has\", len(vectors[0]), \"measurements\")\n",
    "print(\"And the second one has\", len(vectors[1]), \"measurements\")\n",
    "print(\"And the third one has\", len(vectors[2]), \"measurements\")\n",
    "print(\"And the fourth one has\", len(vectors[3]), \"measurements\")"
   ]
  },
  {
   "cell_type": "code",
   "execution_count": 15,
   "metadata": {},
   "outputs": [
    {
     "data": {
      "text/html": [
       "<style type=\"text/css\">\n",
       "#T_190b8_row0_col0, #T_190b8_row1_col1, #T_190b8_row2_col2, #T_190b8_row3_col3 {\n",
       "  background-color: #023858;\n",
       "  color: #f1f1f1;\n",
       "}\n",
       "#T_190b8_row0_col1, #T_190b8_row1_col0 {\n",
       "  background-color: #056ba9;\n",
       "  color: #f1f1f1;\n",
       "}\n",
       "#T_190b8_row0_col2, #T_190b8_row2_col0 {\n",
       "  background-color: #5c9fc9;\n",
       "  color: #f1f1f1;\n",
       "}\n",
       "#T_190b8_row0_col3, #T_190b8_row3_col0 {\n",
       "  background-color: #fff7fb;\n",
       "  color: #000000;\n",
       "}\n",
       "#T_190b8_row1_col2, #T_190b8_row2_col1 {\n",
       "  background-color: #4897c4;\n",
       "  color: #f1f1f1;\n",
       "}\n",
       "#T_190b8_row1_col3, #T_190b8_row3_col1 {\n",
       "  background-color: #dad9ea;\n",
       "  color: #000000;\n",
       "}\n",
       "#T_190b8_row2_col3, #T_190b8_row3_col2 {\n",
       "  background-color: #7eadd1;\n",
       "  color: #f1f1f1;\n",
       "}\n",
       "</style>\n",
       "<table id=\"T_190b8\">\n",
       "  <thead>\n",
       "    <tr>\n",
       "      <th class=\"blank level0\" >&nbsp;</th>\n",
       "      <th id=\"T_190b8_level0_col0\" class=\"col_heading level0 col0\" >Molly ate a donut</th>\n",
       "      <th id=\"T_190b8_level0_col1\" class=\"col_heading level0 col1\" >Molly ate a fish</th>\n",
       "      <th id=\"T_190b8_level0_col2\" class=\"col_heading level0 col2\" >Jen consumed a carp</th>\n",
       "      <th id=\"T_190b8_level0_col3\" class=\"col_heading level0 col3\" >Lenny fears the lions</th>\n",
       "    </tr>\n",
       "  </thead>\n",
       "  <tbody>\n",
       "    <tr>\n",
       "      <th id=\"T_190b8_level0_row0\" class=\"row_heading level0 row0\" >Molly ate a donut</th>\n",
       "      <td id=\"T_190b8_row0_col0\" class=\"data row0 col0\" >1.000000</td>\n",
       "      <td id=\"T_190b8_row0_col1\" class=\"data row0 col1\" >0.812000</td>\n",
       "      <td id=\"T_190b8_row0_col2\" class=\"data row0 col2\" >0.620459</td>\n",
       "      <td id=\"T_190b8_row0_col3\" class=\"data row0 col3\" >0.158913</td>\n",
       "    </tr>\n",
       "    <tr>\n",
       "      <th id=\"T_190b8_level0_row1\" class=\"row_heading level0 row1\" >Molly ate a fish</th>\n",
       "      <td id=\"T_190b8_row1_col0\" class=\"data row1 col0\" >0.812000</td>\n",
       "      <td id=\"T_190b8_row1_col1\" class=\"data row1 col1\" >1.000000</td>\n",
       "      <td id=\"T_190b8_row1_col2\" class=\"data row1 col2\" >0.652032</td>\n",
       "      <td id=\"T_190b8_row1_col3\" class=\"data row1 col3\" >0.332671</td>\n",
       "    </tr>\n",
       "    <tr>\n",
       "      <th id=\"T_190b8_level0_row2\" class=\"row_heading level0 row2\" >Jen consumed a carp</th>\n",
       "      <td id=\"T_190b8_row2_col0\" class=\"data row2 col0\" >0.620459</td>\n",
       "      <td id=\"T_190b8_row2_col1\" class=\"data row2 col1\" >0.652032</td>\n",
       "      <td id=\"T_190b8_row2_col2\" class=\"data row2 col2\" >1.000000</td>\n",
       "      <td id=\"T_190b8_row2_col3\" class=\"data row2 col3\" >0.558610</td>\n",
       "    </tr>\n",
       "    <tr>\n",
       "      <th id=\"T_190b8_level0_row3\" class=\"row_heading level0 row3\" >Lenny fears the lions</th>\n",
       "      <td id=\"T_190b8_row3_col0\" class=\"data row3 col0\" >0.158913</td>\n",
       "      <td id=\"T_190b8_row3_col1\" class=\"data row3 col1\" >0.332671</td>\n",
       "      <td id=\"T_190b8_row3_col2\" class=\"data row3 col2\" >0.558610</td>\n",
       "      <td id=\"T_190b8_row3_col3\" class=\"data row3 col3\" >1.000000</td>\n",
       "    </tr>\n",
       "  </tbody>\n",
       "</table>\n"
      ],
      "text/plain": [
       "<pandas.io.formats.style.Styler at 0x155c7b31c30>"
      ]
     },
     "execution_count": 15,
     "metadata": {},
     "output_type": "execute_result"
    }
   ],
   "source": [
    "# Compute similarities\n",
    "similarities = cosine_similarity(vectors)\n",
    "\n",
    "# Turn into a dataframe\n",
    "pd.DataFrame(similarities,\n",
    "            index=sentences,\n",
    "            columns=sentences) \\\n",
    "            .style \\\n",
    "            .background_gradient(axis=None)"
   ]
  },
  {
   "cell_type": "code",
   "execution_count": 17,
   "metadata": {},
   "outputs": [
    {
     "data": {
      "text/html": [
       "<style type=\"text/css\">\n",
       "#T_7e951_row0_col0, #T_7e951_row1_col1, #T_7e951_row2_col2 {\n",
       "  background-color: #023858;\n",
       "  color: #f1f1f1;\n",
       "}\n",
       "#T_7e951_row0_col1, #T_7e951_row1_col0 {\n",
       "  background-color: #f2ecf5;\n",
       "  color: #000000;\n",
       "}\n",
       "#T_7e951_row0_col2, #T_7e951_row2_col0 {\n",
       "  background-color: #fff7fb;\n",
       "  color: #000000;\n",
       "}\n",
       "#T_7e951_row1_col2, #T_7e951_row2_col1 {\n",
       "  background-color: #358fc0;\n",
       "  color: #f1f1f1;\n",
       "}\n",
       "</style>\n",
       "<table id=\"T_7e951\">\n",
       "  <thead>\n",
       "    <tr>\n",
       "      <th class=\"blank level0\" >&nbsp;</th>\n",
       "      <th id=\"T_7e951_level0_col0\" class=\"col_heading level0 col0\" >Veronica hates mustard. I hate you.</th>\n",
       "      <th id=\"T_7e951_level0_col1\" class=\"col_heading level0 col1\" >Veronica loves ketchup</th>\n",
       "      <th id=\"T_7e951_level0_col2\" class=\"col_heading level0 col2\" >Joseph hates ketchup</th>\n",
       "    </tr>\n",
       "  </thead>\n",
       "  <tbody>\n",
       "    <tr>\n",
       "      <th id=\"T_7e951_level0_row0\" class=\"row_heading level0 row0\" >Veronica hates mustard. I hate you.</th>\n",
       "      <td id=\"T_7e951_row0_col0\" class=\"data row0 col0\" >1.000000</td>\n",
       "      <td id=\"T_7e951_row0_col1\" class=\"data row0 col1\" >0.549820</td>\n",
       "      <td id=\"T_7e951_row0_col2\" class=\"data row0 col2\" >0.506746</td>\n",
       "    </tr>\n",
       "    <tr>\n",
       "      <th id=\"T_7e951_level0_row1\" class=\"row_heading level0 row1\" >Veronica loves ketchup</th>\n",
       "      <td id=\"T_7e951_row1_col0\" class=\"data row1 col0\" >0.549820</td>\n",
       "      <td id=\"T_7e951_row1_col1\" class=\"data row1 col1\" >1.000000</td>\n",
       "      <td id=\"T_7e951_row1_col2\" class=\"data row1 col2\" >0.815793</td>\n",
       "    </tr>\n",
       "    <tr>\n",
       "      <th id=\"T_7e951_level0_row2\" class=\"row_heading level0 row2\" >Joseph hates ketchup</th>\n",
       "      <td id=\"T_7e951_row2_col0\" class=\"data row2 col0\" >0.506746</td>\n",
       "      <td id=\"T_7e951_row2_col1\" class=\"data row2 col1\" >0.815793</td>\n",
       "      <td id=\"T_7e951_row2_col2\" class=\"data row2 col2\" >1.000000</td>\n",
       "    </tr>\n",
       "  </tbody>\n",
       "</table>\n"
      ],
      "text/plain": [
       "<pandas.io.formats.style.Styler at 0x155f13c11b0>"
      ]
     },
     "execution_count": 17,
     "metadata": {},
     "output_type": "execute_result"
    }
   ],
   "source": [
    "# Here are our sentences\n",
    "sentences = [\n",
    "    'Veronica hates mustard. I hate you.',\n",
    "    'Veronica loves ketchup',\n",
    "    'Joseph hates ketchup',\n",
    "]\n",
    "\n",
    "# Turn into vectors\n",
    "vectors = [nlp(sentence).vector for sentence in sentences]\n",
    "\n",
    "# Compute similarities\n",
    "similarities = cosine_similarity(vectors)\n",
    "\n",
    "# Turn into a dataframe\n",
    "pd.DataFrame(similarities,\n",
    "            index=sentences,\n",
    "            columns=sentences) \\\n",
    "            .style \\\n",
    "            .background_gradient(axis=None)"
   ]
  },
  {
   "cell_type": "code",
   "execution_count": null,
   "metadata": {},
   "outputs": [],
   "source": []
  },
  {
   "attachments": {},
   "cell_type": "markdown",
   "metadata": {},
   "source": [
    "## Testing with Gensim"
   ]
  },
  {
   "cell_type": "code",
   "execution_count": 7,
   "metadata": {},
   "outputs": [],
   "source": [
    "from gensim.utils import simple_preprocess\n",
    "from gensim.models.phrases import Phrases #, ENGLISH_CONNECTOR_WORDS\n",
    "from gensim.models import Word2Vec\n",
    "\n",
    "import pandas as pd"
   ]
  },
  {
   "cell_type": "code",
   "execution_count": 50,
   "metadata": {},
   "outputs": [],
   "source": [
    "Letter = '''My dear Madam,—I now take my pen to write a few lines, as I have been\n",
    "thinking of doing so a long time. I often think of you, and I daresay you\n",
    "would like to hear about the school out here. I have sixty girls that attend\n",
    "nice and regularly. I used to have three girls to assist me, but one of them\n",
    "has left for Queenstown, where her father has undertaken the native\n",
    "school. My first class are now able to read in the third reading books, and\n",
    "in compound long division sums. They already know a little geography of\n",
    "this world, and they are more fond of it than I used to be. I teach them\n",
    "the map of Palestine, to make them understand what they are learning. I\n",
    "tell them it all in Kafir [Xhosa], and it makes it quite interesting to them.\n",
    "The Kafir has all come back to me quite natural. The second class read\n",
    "Letterto Miss Mackenzie 113\n",
    "Peep of Day, and are in addition and subtraction sums. We have a nice\n",
    "large school-room.'''\n"
   ]
  },
  {
   "cell_type": "code",
   "execution_count": 55,
   "metadata": {},
   "outputs": [
    {
     "name": "stdout",
     "output_type": "stream",
     "text": [
      "[['my', 'dear', 'madam', 'now', 'take', 'my', 'pen', 'to', 'write', 'few', 'lines', 'as', 'have', 'been', 'thinking', 'of', 'doing', 'so', 'long', 'time'], ['often', 'think', 'of', 'you', 'and', 'daresay', 'you', 'would', 'like', 'to', 'hear', 'about', 'the', 'school', 'out', 'here'], ['have', 'sixty', 'girls', 'that', 'attend', 'nice', 'and', 'regularly'], ['used', 'to', 'have', 'three', 'girls', 'to', 'assist', 'me', 'but', 'one', 'ot', 'them', 'has', 'left', 'for', 'queenstown', 'where', 'her', 'father', 'has', 'undertaken', 'the', 'native', 'school'], ['my', 'first', 'class', 'are', 'now', 'able', 'to', 'read', 'in', 'the', 'third', 'reading', 'books', 'and', 'in', 'compound', 'long', 'division', 'sums'], ['they', 'already', 'know', 'little', 'geography', 'ot', 'this', 'world', 'and', 'they', 'are', 'more', 'fond', 'of', 'it', 'than', 'used', 'to', 'be'], ['teach', 'them', 'the', 'map', 'of', 'palestine', 'to', 'make', 'them', 'understand', 'what', 'they', 'are', 'learning'], ['tell', 'them', 'it', 'all', 'in', 'kafir', 'xhosa', 'and', 'it', 'makes', 'it', 'quite', 'interesting', 'to', 'them', 'the', 'kafir', 'has', 'all', 'come', 'back', 'to', 'me', 'quite', 'natural'], ['the', 'second', 'class', 'read', 'letterto', 'miss', 'mackenzie', 'peep', 'of', 'day', 'and', 'are', 'in', 'addition', 'and', 'subtraction', 'sums'], ['we', 'have', 'nice', 'large', 'school', 'room']]\n"
     ]
    }
   ],
   "source": [
    "Letter_list = [x.replace(\"\\n\",\" \").replace(\".\", \"\") for x in Letter.split(\". \")]\n",
    "Letter_list = [simple_preprocess(x, deacc=True, max_len=50, min_len=2) for x in Letter_list]\n",
    "print(Letter_list)"
   ]
  },
  {
   "cell_type": "code",
   "execution_count": 75,
   "metadata": {},
   "outputs": [],
   "source": [
    "model = Word2Vec(sentences = Letter_list, min_count = 1, vector_size = 600, workers = 3, window = 10)"
   ]
  },
  {
   "cell_type": "code",
   "execution_count": 76,
   "metadata": {},
   "outputs": [
    {
     "data": {
      "text/plain": [
       "dict_keys(['to', 'and', 'the', 'them', 'of', 'have', 'are', 'in', 'it', 'my', 'they', 'school', 'has', 'you', 'now', 'used', 'class', 'girls', 'nice', 'me', 'long', 'all', 'kafir', 'ot', 'sums', 'quite', 'read', 'that', 'attend', 'regularly', 'been', 'three', 'madam', 'assist', 'but', 'one', 'dear', 'take', 'out', 'sixty', 'daresay', 'as', 'doing', 'so', 'time', 'often', 'think', 'lines', 'would', 'here', 'left', 'few', 'hear', 'about', 'write', 'pen', 'thinking', 'like', 'room', 'for', 'queenstown', 'palestine', 'make', 'understand', 'what', 'learning', 'tell', 'xhosa', 'makes', 'interesting', 'come', 'back', 'natural', 'second', 'letterto', 'miss', 'mackenzie', 'peep', 'day', 'addition', 'subtraction', 'we', 'map', 'teach', 'be', 'books', 'where', 'her', 'father', 'large', 'native', 'first', 'able', 'third', 'reading', 'compound', 'than', 'division', 'already', 'know', 'little', 'geography', 'this', 'world', 'more', 'fond', 'undertaken'])"
      ]
     },
     "execution_count": 76,
     "metadata": {},
     "output_type": "execute_result"
    }
   ],
   "source": [
    "model.wv.key_to_index.keys()"
   ]
  },
  {
   "cell_type": "code",
   "execution_count": 79,
   "metadata": {},
   "outputs": [
    {
     "data": {
      "text/plain": [
       "array([ 3.36445868e-04, -1.03300568e-04,  1.24680751e-03,  6.66426495e-05,\n",
       "       -4.39250551e-04,  1.14038552e-03,  4.66219120e-04,  2.31210695e-04,\n",
       "       -3.48100089e-04, -7.82445946e-04, -1.04574813e-03,  3.64169508e-04,\n",
       "        1.63395528e-03, -9.41138016e-04, -7.95752276e-04,  3.46439105e-04,\n",
       "        9.00071696e-04, -1.63901434e-03,  5.44880866e-04,  1.36978400e-03,\n",
       "       -6.83950260e-04, -1.60291314e-03,  7.00459525e-04, -7.51339248e-05,\n",
       "        1.25402713e-03, -7.28163519e-04,  1.21473765e-03,  1.56669237e-04,\n",
       "        5.20125788e-04, -1.52478751e-04, -1.54693483e-03,  1.59250316e-03,\n",
       "        1.21176173e-03,  1.60191022e-03, -7.20247335e-05,  7.65925564e-04,\n",
       "        9.39036778e-04, -1.46855030e-03, -2.29496854e-05, -3.05145892e-04,\n",
       "       -1.51302852e-03,  1.63436832e-03, -1.68386614e-04,  1.52724911e-03,\n",
       "        3.66348890e-04, -8.91589443e-05, -1.21416710e-03,  1.58382556e-03,\n",
       "       -1.35651953e-03,  8.70719785e-04,  6.06109214e-04, -1.28088970e-04,\n",
       "        2.69391367e-05,  8.56853367e-05, -2.44881867e-05,  9.42033133e-04,\n",
       "        3.71947681e-04, -6.91363763e-04, -3.24520981e-04,  1.91394603e-04,\n",
       "       -1.60154945e-03,  1.00384711e-03, -1.39877098e-04, -1.46244036e-03,\n",
       "       -1.36491121e-03,  7.70845916e-04, -4.18040610e-04, -3.44836095e-04,\n",
       "        1.93456348e-04, -8.15457199e-04, -4.73598047e-04,  1.09905703e-03,\n",
       "       -3.37798323e-04, -2.58720451e-04, -5.16395783e-04, -1.60944404e-03,\n",
       "       -1.57004804e-03,  1.61044288e-03, -1.83564844e-04,  1.19466346e-03,\n",
       "        1.81979645e-04, -3.93885675e-05,  6.88361702e-04,  1.97413552e-04,\n",
       "        9.21859828e-05,  1.32844294e-03,  5.26437943e-04,  1.35833048e-03,\n",
       "        1.21616828e-03, -1.40639034e-03, -1.11200963e-03,  1.35537249e-03,\n",
       "       -1.14361534e-03, -3.05609079e-04, -5.72930439e-04,  6.41708379e-04,\n",
       "        1.47031713e-03, -1.86677207e-04, -7.06180435e-05,  6.25249639e-04,\n",
       "        2.54021434e-04, -2.81297922e-04, -4.73232096e-04,  5.42652386e-04,\n",
       "       -3.91476380e-04,  5.86800626e-04, -4.21973877e-04,  5.18461748e-04,\n",
       "       -8.01218790e-04, -3.55172888e-05,  8.82080290e-04, -1.15131109e-03,\n",
       "       -1.19569746e-03, -1.21526071e-03, -1.51341967e-03, -1.06010574e-03,\n",
       "       -3.54543590e-04,  7.38057352e-05,  8.78705992e-04, -1.68412691e-04,\n",
       "       -3.63014347e-04, -1.38896366e-03, -7.56351918e-04,  1.31243677e-03,\n",
       "       -1.17225409e-03,  3.80465317e-05, -3.51241819e-04, -1.43106969e-04,\n",
       "        1.62362866e-03, -1.55686284e-03,  7.62761571e-04,  1.41182705e-03,\n",
       "        2.21868977e-04, -1.34878315e-03, -4.71793290e-04, -1.23286096e-03,\n",
       "        1.49905783e-04,  5.48112148e-04, -6.09342940e-04, -7.16923445e-04,\n",
       "       -5.94788326e-05,  2.38906970e-04, -1.82088173e-04,  4.77574678e-04,\n",
       "        1.03431824e-03, -6.79413788e-04, -6.96594769e-04, -6.88430795e-04,\n",
       "        4.02447215e-04,  9.74186754e-04,  6.22949679e-04, -7.82770046e-04,\n",
       "       -1.53874990e-03,  1.54194713e-03, -9.12086049e-04,  7.07596017e-04,\n",
       "        1.07550004e-03,  4.65830235e-04,  1.42270862e-03,  1.19047787e-03,\n",
       "        1.16715302e-04,  9.06509929e-04,  1.13089208e-03, -1.26977172e-03,\n",
       "       -1.64708158e-03,  2.81859218e-04, -1.53479120e-03, -2.62588117e-04,\n",
       "       -6.27871370e-04,  2.78730935e-04, -3.25722096e-04,  4.13354894e-04,\n",
       "        1.29992596e-03,  2.12085597e-05,  9.72410431e-04, -1.34017644e-03,\n",
       "        2.06581753e-04,  5.60275803e-04, -1.54598732e-03,  3.69837595e-04,\n",
       "        1.64343568e-03, -7.36665737e-04, -1.08675892e-03, -1.40274281e-03,\n",
       "        7.54776294e-04,  1.39988551e-03,  2.90430646e-04,  6.45645079e-04,\n",
       "        1.58783514e-03,  8.56597762e-05, -1.23793085e-03,  4.88915903e-05,\n",
       "        1.24542182e-03, -1.13924348e-03,  7.79602386e-04, -1.04821485e-03,\n",
       "        4.19642107e-04,  9.88393673e-04,  8.05799325e-04, -1.52471859e-03,\n",
       "        5.10334794e-04, -4.37560113e-04,  1.48767058e-03,  1.52143207e-03,\n",
       "       -8.05303396e-04, -1.00326398e-03,  2.98703439e-04, -1.13909994e-03,\n",
       "       -1.09004264e-03, -9.36066674e-04, -1.64983189e-03, -9.70147608e-04,\n",
       "       -1.51779270e-03,  4.89367114e-04, -1.08056248e-03, -8.55184742e-04,\n",
       "       -4.80698713e-04, -9.18052101e-05, -1.65625510e-03,  1.26571173e-03,\n",
       "       -9.89851076e-04, -1.27428817e-03, -1.62035669e-03, -1.04495510e-03,\n",
       "       -1.56799168e-03, -1.04501902e-03, -5.38844906e-04,  1.35095193e-04,\n",
       "        8.66370683e-04, -9.40450554e-05,  9.80026787e-04, -9.71956353e-04,\n",
       "        1.46381895e-03,  3.45320994e-04, -1.13190000e-03,  2.91673961e-04,\n",
       "        1.34871551e-03, -1.16520457e-03, -4.07938118e-04, -1.14340051e-04,\n",
       "        1.46266178e-03,  2.35593892e-04,  7.66749028e-04,  3.11561278e-04,\n",
       "        1.37773622e-03, -7.64098251e-04,  3.51786039e-05, -6.37825695e-04,\n",
       "        5.96426078e-04, -1.16184633e-03,  1.98106893e-04, -5.04670956e-04,\n",
       "        3.59120488e-04, -1.38967403e-03,  8.01150105e-04, -6.40287588e-04,\n",
       "        8.98227852e-04, -1.11045246e-03, -5.89186384e-04,  7.64871016e-04,\n",
       "       -1.20619091e-03, -8.86235328e-04,  1.49011693e-03, -1.36185950e-03,\n",
       "       -1.47681369e-03, -2.80500011e-04, -5.79252781e-04, -6.67808694e-04,\n",
       "       -1.21187198e-03, -1.43884378e-03,  5.04590163e-04,  7.60402647e-04,\n",
       "       -8.36499617e-04,  1.57096505e-03, -1.39594222e-05, -2.38693712e-04,\n",
       "        7.85626544e-05, -1.06906355e-03, -1.45938597e-03, -5.85435773e-04,\n",
       "        4.79350012e-04,  1.35161879e-03,  5.76279825e-04,  1.34359894e-03,\n",
       "        4.70489904e-04,  1.02096458e-03, -5.25845215e-04, -7.74513406e-04,\n",
       "       -1.15458865e-03,  5.13510720e-04, -5.76526916e-04,  6.91489913e-05,\n",
       "        1.51189987e-03, -9.24579450e-04,  9.55074560e-04,  8.79072235e-04,\n",
       "       -1.11703388e-03,  5.77265630e-04,  1.42801960e-03,  1.55445712e-03,\n",
       "       -1.65600795e-03, -1.53625687e-03,  9.72874346e-04,  1.63661072e-03,\n",
       "       -1.18692650e-03,  6.59951183e-04,  1.43679080e-03, -1.02517428e-03,\n",
       "       -7.06663996e-04,  1.03249587e-03, -6.33782300e-04,  1.12294906e-03,\n",
       "       -1.17835961e-03, -3.88965971e-04,  8.66976217e-04,  1.03537599e-03,\n",
       "        4.97001398e-04,  8.77952261e-05,  8.83861678e-04,  1.20467390e-03,\n",
       "        1.22541026e-03,  1.37195608e-03,  6.45563647e-04, -1.13229186e-03,\n",
       "        1.16775162e-03, -2.06107652e-04, -3.76689452e-04,  1.47471379e-03,\n",
       "        1.14151277e-03, -6.90155546e-04,  7.76662084e-04, -1.16100837e-03,\n",
       "       -1.12546922e-03,  1.23682036e-03, -1.32598958e-04, -1.65235496e-03,\n",
       "        1.11960992e-03,  1.31546799e-03,  4.58910188e-04, -1.07597630e-03,\n",
       "        1.78854771e-06, -2.90840282e-04, -2.31184560e-04,  1.21104962e-03,\n",
       "       -8.54457263e-04, -1.63355970e-03,  7.55215879e-04,  9.57350887e-04,\n",
       "        8.91177449e-04, -1.34730036e-03,  1.42243295e-03,  4.67368460e-04,\n",
       "       -1.40798293e-04, -4.13355330e-04, -3.56818346e-04, -2.30822130e-04,\n",
       "        7.25918682e-04,  1.22031430e-03,  1.95298671e-05,  4.22187557e-04,\n",
       "        8.66122791e-05, -1.02946500e-03,  6.16232166e-04, -1.09487737e-03,\n",
       "        1.18657679e-03, -3.47044726e-04, -6.06725225e-04, -2.40103269e-04,\n",
       "       -4.90573118e-04, -6.14135177e-04,  9.36558354e-04, -2.89371310e-05,\n",
       "       -1.25439453e-03, -6.25601446e-04,  3.33406439e-04, -1.33346440e-03,\n",
       "       -7.93758489e-04,  9.28380759e-04, -5.26138523e-04,  4.43840807e-04,\n",
       "       -1.33123365e-04,  1.27414626e-03, -7.01273326e-04,  4.12544876e-04,\n",
       "        1.41328317e-03, -1.33565289e-03,  1.15827727e-03, -6.35984878e-04,\n",
       "        4.41853685e-04, -1.26371812e-03, -1.14205736e-03,  7.82180636e-04,\n",
       "       -4.60199721e-04, -1.41368888e-03,  1.01786491e-03, -3.23649292e-04,\n",
       "       -4.14054266e-05, -1.35294488e-03,  1.11074350e-03,  7.60719762e-04,\n",
       "       -2.37183151e-04, -9.56360134e-04,  6.00143860e-04,  8.17423788e-05,\n",
       "        1.47310307e-03, -7.98338733e-04, -3.23630171e-04, -5.22342103e-04,\n",
       "       -4.57525020e-04,  6.72986425e-05,  8.04251235e-04,  7.29657550e-05,\n",
       "        6.63160637e-04, -1.54107844e-03, -1.62360130e-03,  6.45436667e-05,\n",
       "        1.36881543e-03, -5.99474297e-04,  1.21754978e-03, -9.28438210e-04,\n",
       "        2.12762152e-05, -1.53777725e-03,  1.07670540e-03,  2.92277575e-04,\n",
       "       -1.40372850e-03, -4.13756090e-04,  6.63387938e-04,  1.72809756e-04,\n",
       "       -5.66875970e-04, -8.96274461e-04, -5.37893036e-04, -1.07478036e-03,\n",
       "       -5.15489606e-04, -1.54221279e-03,  7.41429278e-04, -7.55923451e-04,\n",
       "       -9.14556382e-04, -9.44539905e-04, -1.11155525e-04,  8.31234065e-05,\n",
       "       -1.26294023e-03, -1.42902241e-03, -9.31707444e-04,  1.43400091e-03,\n",
       "       -3.10460775e-04,  1.43944449e-03, -1.55334605e-03,  7.20254087e-04,\n",
       "        1.42990414e-03,  1.32194778e-03, -1.31877756e-03,  1.08741084e-03,\n",
       "        4.92873252e-04,  1.09522507e-05,  9.44168074e-04,  5.33713086e-04,\n",
       "       -1.00609160e-03, -8.25787254e-04, -4.87443205e-04,  7.69698352e-04,\n",
       "       -7.47850630e-04, -1.39824566e-04, -1.30002806e-03,  5.04794647e-04,\n",
       "       -2.36360356e-04, -9.31735267e-04,  9.12451767e-04,  1.44350517e-03,\n",
       "        1.01924967e-03, -2.97923310e-04,  3.84099170e-04,  1.46160030e-03,\n",
       "        1.44421938e-03, -6.28864451e-04, -3.74192372e-04,  4.66118450e-04,\n",
       "       -1.20496715e-03,  1.09892827e-03, -1.09684991e-03, -2.62176007e-04,\n",
       "       -3.57751851e-04,  7.78448593e-04,  9.96900606e-04, -1.13694847e-03,\n",
       "       -3.02239001e-04,  7.65808858e-04,  6.64002553e-04,  8.21432972e-04,\n",
       "       -1.19658280e-03, -8.73461948e-04, -9.58112010e-04, -7.26130558e-04,\n",
       "       -1.90226609e-04,  5.74074627e-04,  8.07880075e-04, -1.17286640e-04,\n",
       "       -7.94740801e-04,  4.32584829e-06, -6.36101526e-04,  8.88583309e-04,\n",
       "        1.33389665e-03, -1.17123220e-03,  6.18190711e-07, -2.14234795e-04,\n",
       "       -6.43144129e-04, -4.94783861e-04, -6.22279476e-04,  9.17044468e-04,\n",
       "       -6.84254686e-04,  5.69972675e-04,  2.08189333e-04, -1.62190560e-03,\n",
       "        9.53938346e-04,  2.02502182e-04, -1.30355256e-04, -7.73850421e-04,\n",
       "        1.51233704e-04, -6.72069262e-04,  9.40347032e-04, -1.52292883e-03,\n",
       "        9.76132695e-04, -2.47154007e-04,  5.78343926e-04, -1.92476393e-04,\n",
       "        4.05728613e-04, -1.36596127e-03,  3.25966888e-04,  1.06540765e-03,\n",
       "        1.31153769e-03,  7.97860921e-05, -1.36560865e-03,  6.14609220e-04,\n",
       "       -1.39001655e-04, -8.00248061e-04,  4.98580805e-04,  9.09679045e-04,\n",
       "        2.38085813e-05, -1.48374133e-03,  6.95695693e-04, -7.08236999e-04,\n",
       "       -1.55872398e-03, -8.74354795e-04,  1.45003502e-03,  3.38082929e-04,\n",
       "        1.16619084e-03,  8.88019931e-05, -4.21072589e-04, -2.32673003e-04,\n",
       "       -4.48749139e-04,  6.91092922e-04, -1.24923739e-04,  6.94438873e-04,\n",
       "        2.39582179e-04,  9.33821779e-04, -5.31651138e-04,  1.28329592e-03,\n",
       "        1.28478894e-03,  1.45762425e-03,  7.03690981e-04, -1.59104320e-03,\n",
       "        9.46087006e-04,  1.07248162e-03,  1.05060672e-03,  1.32721162e-03,\n",
       "       -2.49762204e-04, -5.14718820e-04,  4.41220007e-04,  6.26859779e-04,\n",
       "       -1.55930966e-03, -7.26262457e-04, -9.05276611e-05, -1.40575168e-03,\n",
       "        3.64702690e-04, -2.25313037e-04, -6.33595278e-04, -1.61368353e-03,\n",
       "        1.33564277e-03, -1.21855142e-03, -1.11677730e-03,  1.39234890e-03,\n",
       "        8.37561151e-04,  1.35026965e-03, -1.49528065e-03,  8.22232105e-04,\n",
       "        4.33426234e-04, -1.46230939e-03, -1.39216601e-03, -7.50772131e-04,\n",
       "       -4.33572968e-05,  1.21710566e-03,  2.55405903e-04,  4.56729409e-04,\n",
       "        7.41226017e-04,  1.33269792e-03,  9.43847408e-04,  6.04310539e-04,\n",
       "        1.44538470e-03, -1.65791658e-03,  1.02630735e-03,  2.14879779e-04],\n",
       "      dtype=float32)"
      ]
     },
     "execution_count": 79,
     "metadata": {},
     "output_type": "execute_result"
    }
   ],
   "source": [
    "model.wv[\"ot\"]"
   ]
  },
  {
   "cell_type": "code",
   "execution_count": null,
   "metadata": {},
   "outputs": [],
   "source": []
  }
 ],
 "metadata": {
  "kernelspec": {
   "display_name": "Science",
   "language": "python",
   "name": "python3"
  },
  "language_info": {
   "codemirror_mode": {
    "name": "ipython",
    "version": 3
   },
   "file_extension": ".py",
   "mimetype": "text/x-python",
   "name": "python",
   "nbconvert_exporter": "python",
   "pygments_lexer": "ipython3",
   "version": "3.10.8"
  },
  "orig_nbformat": 4,
  "vscode": {
   "interpreter": {
    "hash": "504af214ce0ec8b4dcf81a313aaf26846f6496a03b9a2d2492e6c44e02d67ec3"
   }
  }
 },
 "nbformat": 4,
 "nbformat_minor": 2
}
