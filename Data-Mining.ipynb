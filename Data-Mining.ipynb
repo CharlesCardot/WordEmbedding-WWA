{
 "cells": [
  {
   "attachments": {},
   "cell_type": "markdown",
   "metadata": {},
   "source": [
    "## Women Writing Africa, Data Mining Process"
   ]
  },
  {
   "cell_type": "code",
   "execution_count": 42,
   "metadata": {},
   "outputs": [],
   "source": [
    "import re\n",
    "import os\n",
    "\n",
    "import numpy as np\n",
    "import utils as ut\n",
    "import pandas as pd\n",
    "\n",
    "from pathlib import Path\n",
    "from importlib import reload"
   ]
  },
  {
   "attachments": {},
   "cell_type": "markdown",
   "metadata": {},
   "source": [
    "- Convert PDF to txt document"
   ]
  },
  {
   "cell_type": "code",
   "execution_count": 2,
   "metadata": {},
   "outputs": [],
   "source": [
    "reload(ut)\n",
    "pdf_path = Path(\"Datasets\") / \"women writing africa eastern region.pdf\"\n",
    "out_txt_path = Path(\"Datasets\") / \"women writing africa eastern region.txt\"\n",
    "ut.pdftotxt(pdf_path, out_txt_path, progress_updates=True)"
   ]
  },
  {
   "attachments": {},
   "cell_type": "markdown",
   "metadata": {},
   "source": [
    "### Parse txt document\n",
    "\n",
    "Goals:\n",
    "- Identify content pattern, ex: (Author Name -> Title -> Country, Year, Language) precedes all content blocks\n",
    "- Extract individual documents, including forewards\n",
    "- Devise method for removing forwards\n",
    "- Create a document database of Metadata: Content\n",
    "\n",
    "Extraction pattern examples:\n",
    "\n",
    "```\n",
    "1.\n",
    "Siti binti Saad\n",
    "FOUR SONGS\n",
    "Tanzania 1920s Kiswahili\n",
    "\n",
    "2.\n",
    "Nellie Grant\n",
    "\n",
    "LETTERS FROM AFRICA TO A DAUGHTER\n",
    "IN ENGLAND\n",
    "\n",
    "Kenya 1939-1963 English\n",
    "```"
   ]
  },
  {
   "cell_type": "code",
   "execution_count": 116,
   "metadata": {},
   "outputs": [
    {
     "name": "stdout",
     "output_type": "stream",
     "text": [
      "Start Index is 4535\n",
      "End Index is 23609\n",
      "['\\n', 'Martha Thabi was born about 1870 and was educated in Njuya, in what was then\\n', 'called Ngoniland, now the Mzimba District in northern Malawi. The region’s\\n', \"name reflects the area's settlement, earlier in the nineteenth century, by the Ngoni\\n\", 'people, who had migrated north from the kwaZulu-Natal area, Thabi was one of\\n', 'the first women to attend a mission school opened by the Scots at Njuyu in 1886,\\n', 'and she became a teacher before she was, twenty years old. While Njuyu was a\\n', 'primary school, as early as 1894, Scottish missionaries opened a high school and\\n', 'technical college at Khondowe called Overtoun Institute. Thabi did not enter\\n', 'Overtoun Institute because of her early ‘niarriage to Reverend Andrew C,\\n', 'Mkochi of Engalaweni.\\n', '\\n', 'In addition to her teaching, Thabi took a prominent part in church affairs as\\n', \"the pastor's wife. She also cultivated gardens, harvested and pounded maize, and\\n\", 'bore eight children, four female and four male, all of whom went to school. A\\n', 'highly respected citizen of her community, she died some time after 1912. Thabi\\n', 'begins this poem, which takes the form of a prayer, with Jesus’s famous appeal to\\n', 'God from the cross.\\n', '\\n', 'Desmond D. Phiri and Fulata L. Moyo\\n', '\\n', '86 + THE EIGHTEENTH AND NINETEENTH CENTURIES\\n', '1. My God, my God,\\n', '\\n', 'Why have you forsaken me, my Lord?\\n', 'Behold, you are far away from me.\\n', 'Help me, my Lord.\\n', '\\n', '2. My God, I cry\\n', 'Day and night,\\n', '\\n', 'But you do not answer me.\\n', '\\n', '3. I am but a worm.\\n', 'I am not a righteous person.\\n', 'I am unworthy of you, my Lord.\\n', '\\n', '4, Do not move away from me\\n', 'Since troubles are very near.\\n', 'But you are my strength, my Lord.\\n', '\\n', '5. My God, come\\n', 'back to me, my Lord.\\n', 'Help me.\\n', '\\n', '6. Hear my cry.\\n', 'I cry to you, Father,\\n', '\\n', 'Answer my prayer.\\n', '\\n', 'Translated by Desmond D. Phiri\\n', '\\n', 'Jessie Nyagondwe\\n', 'LET NoT Your HEART BE TROUBLED\\n', 'Malawi 1890s Chitumbuka\\n']\n"
     ]
    }
   ],
   "source": [
    "reload(ut)\n",
    "with open(out_txt_path) as f:\n",
    "    lines = f.readlines()\n",
    "\n",
    "country_list = [\"Tanzania\", \"Kenya\", \"Malawi\", \"Zambia\", \"Uganda\", \"Swaziland\"]\n",
    "\n",
    "start_phrase = [\"Sultan Fatima binti Muhammad Mkubwa\\n\", \"PEACE AND SECURITY\\n\", \"Tanzania 1711 Kiswahili\\n\"]\n",
    "end_phrase = [\"CONTRIBUTORS\\n\", \"\\n\", \"EDITORS\\n\", \"\\n\"]\n",
    "\n",
    "for i in range(len(lines)-3):\n",
    "    if lines[i:i+3] == start_phrase:\n",
    "        print(\"Start Index is\", i)\n",
    "        start_index = i\n",
    "    if lines[i:i+4] == end_phrase:\n",
    "        print(\"End Index is\", i)\n",
    "        end_index = i\n",
    "\n",
    "lines = lines[start_index - 5:end_index-3]\n",
    "for key, val in enumerate(lines):\n",
    "    if \"\\n\" in val and len(val) < 6:\n",
    "        lines[key] = \"\\n\"\n",
    "\n",
    "marker_string_indices = []\n",
    "for i in range(len(lines)-2):\n",
    "        \n",
    "    # Checks to see if string contains a year between 1700 and 2099\n",
    "    year_check = ut.contains_year(lines[i], year_min=\"1600\", year_max=\"2099\")\n",
    "    \n",
    "    if year_check:\n",
    "        \n",
    "        # Checks to see if string contains an approved country name\n",
    "        contains_country = []\n",
    "        for country in country_list:\n",
    "            if country in lines[i]:\n",
    "                contains_country.append(True)\n",
    "            else:\n",
    "                contains_country.append(False)\n",
    "\n",
    "        if any(contains_country):\n",
    "            \n",
    "            # Checks to make sure string has appropriate number of words\n",
    "            if 2 < len(lines[i].split()) < 6:\n",
    "            \n",
    "                marker_string_indices.append(i)\n",
    "\n",
    "def header_parse(header_group):\n",
    "    arr = [0 if i == \"\\n\" else 1 for i in header_group]\n",
    "    simple_formats = [\n",
    "        [1,0,1,1,0,1], [1,0,1,0,1,1], [1,0,1,1,1,0], [1,0,1,0,1,0]\n",
    "    ]\n",
    "    # Most Common\n",
    "    if np.sum(arr[0:3]) == 3:\n",
    "        return header_group[0:3]\n",
    "    # Simple Formats\n",
    "    elif any(arr == i for i in simple_formats):\n",
    "        return [header_group[i] for i in range(len(arr)) if arr[i]==1]\n",
    "    # More Complex Formats\n",
    "    elif arr == [1,0,1,1,1,1]: \n",
    "        return [header_group[0], header_group[2], header_group[3]]\n",
    "    elif arr == [1,1,0,1,1,0]: \n",
    "        return [header_group[0], header_group[1], header_group[3], header_group[4]]\n",
    "    else:\n",
    "        return header_group\n",
    "\n",
    "def chunk_parse(chunk):\n",
    "    for key, val in enumerate(chunk[:-1]):\n",
    "        if val == \"\\n\" and chunk[key+1] == \"\\n\":\n",
    "            return chunk[key+1:]\n",
    "\n",
    "headers = []\n",
    "content_chunks = []\n",
    "for key, index in enumerate(marker_string_indices):\n",
    "    header_group = lines[index-5:index+1]\n",
    "    header_group = [i if not(\" + \" in i) else \"\\n\" for i in header_group]\n",
    "    \n",
    "    header_group.reverse()\n",
    "\n",
    "    temp = [header_group[0]]\n",
    "    slashn_reached = 0\n",
    "    items_added = 1\n",
    "\n",
    "    ## Addressing each format individually,\n",
    "    ## this is messy but works most of the time\n",
    "    header_group = header_parse(header_group)\n",
    "    header_group.reverse()\n",
    "    headers.append(header_group)\n",
    "\n",
    "    if key == len(marker_string_indices) - 1:\n",
    "        chunk = lines[index+1:]\n",
    "    else:\n",
    "        chunk = lines[index+1:marker_string_indices[key+1]+1]\n",
    "    #chunk = chunk_parse(chunk)\n",
    "    content_chunks.append(chunk)\n",
    "print(content_chunks[3])"
   ]
  },
  {
   "cell_type": "code",
   "execution_count": null,
   "metadata": {},
   "outputs": [],
   "source": []
  },
  {
   "cell_type": "code",
   "execution_count": null,
   "metadata": {},
   "outputs": [],
   "source": []
  }
 ],
 "metadata": {
  "kernelspec": {
   "display_name": "Science",
   "language": "python",
   "name": "python3"
  },
  "language_info": {
   "codemirror_mode": {
    "name": "ipython",
    "version": 3
   },
   "file_extension": ".py",
   "mimetype": "text/x-python",
   "name": "python",
   "nbconvert_exporter": "python",
   "pygments_lexer": "ipython3",
   "version": "3.10.6"
  },
  "vscode": {
   "interpreter": {
    "hash": "a94132495860d142598aaea285fc060a9e1832a45151c3a0d158e377765afe23"
   }
  }
 },
 "nbformat": 4,
 "nbformat_minor": 2
}
