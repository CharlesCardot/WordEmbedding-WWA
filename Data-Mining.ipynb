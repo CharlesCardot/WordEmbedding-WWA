{
 "cells": [
  {
   "attachments": {},
   "cell_type": "markdown",
   "metadata": {},
   "source": [
    "## Women Writing Africa, Data Mining Process"
   ]
  },
  {
   "cell_type": "code",
   "execution_count": 1,
   "metadata": {},
   "outputs": [],
   "source": [
    "import re\n",
    "import os\n",
    "\n",
    "import numpy as np\n",
    "import utils as ut\n",
    "import pandas as pd\n",
    "\n",
    "from pathlib import Path\n",
    "from importlib import reload"
   ]
  },
  {
   "attachments": {},
   "cell_type": "markdown",
   "metadata": {},
   "source": [
    "- Convert PDF to txt document"
   ]
  },
  {
   "cell_type": "code",
   "execution_count": 2,
   "metadata": {},
   "outputs": [],
   "source": [
    "reload(ut)\n",
    "pdf_path = Path(\"Datasets\") / \"women writing africa eastern region.pdf\"\n",
    "out_txt_path = Path(\"Datasets\") / \"women writing africa eastern region.txt\"\n",
    "ut.pdftotxt(pdf_path, out_txt_path, progress_updates=True)"
   ]
  },
  {
   "attachments": {},
   "cell_type": "markdown",
   "metadata": {},
   "source": [
    "### Parse txt document\n",
    "\n",
    "Goals:\n",
    "- Identify content pattern, ex: (Author Name -> Title -> Country, Year, Language) precedes all content blocks\n",
    "- Extract individual documents, including forewards\n",
    "- Devise method for removing forwards\n",
    "- Create a document database of Metadata: Content\n",
    "\n",
    "Extraction pattern example:\n",
    "\n",
    "`Siti binti Saad`\n",
    "\n",
    "`FOUR SONGS`\n",
    "\n",
    "`Tanzania 1920s Kiswahili`"
   ]
  },
  {
   "cell_type": "code",
   "execution_count": 28,
   "metadata": {},
   "outputs": [
    {
     "name": "stdout",
     "output_type": "stream",
     "text": [
      "Start Index is 4535\n",
      "[True, False, False, False, False, False]\n",
      "Tanzania 1711 Kiswahili\n",
      "\n",
      "[True, False, False, False, False, False]\n",
      "Island, off the coast of present-day Tanzania. Little is known about her life or her\n",
      "\n",
      "[False, True, False, False, False, False]\n",
      "coast of Kenya and was another Swahili city-state.\n",
      "\n",
      "[False, True, False, False, False, False]\n",
      "Kenya 1858 Kiswahili\n",
      "\n",
      "[False, True, False, False, False, False]\n",
      "Mwana Kupona binti Msham was born in 1810 on Lamu Island, off the Northem coast of Kenya, and spent much of her life on nearby Siyu Island. Her husband, Mohammad Is-Haq bin Mbarak bin Muhammad bin Umar LFamau, also\n",
      "\n",
      "[True, False, False, False, False, False]\n",
      "Tanzania 1886 German\n",
      "\n",
      "[True, False, False, False, False, False]\n",
      "Princess Salma’s is the first full length autobiography written by a Tanzanian.\n",
      "\n",
      "[True, False, False, False, False, False]\n",
      "the first record of a Tanzanian woman of her+stature defying the strict social\n",
      "\n",
      "[True, False, False, False, False, False]\n",
      "independence in 1963, when it was overthrown by a violent revolution and Zanzibar united with Tanganyika to form Tanzania. Of late there has been a revival of\n",
      "\n",
      "[False, False, True, False, False, False]\n",
      "Malawi 1890 Ngoni (Zulu)\n",
      "\n",
      "[False, False, True, False, False, False]\n",
      "called Ngoniland, now the Mzimba District in northern Malawi. The region’s\n",
      "\n"
     ]
    }
   ],
   "source": [
    "with open(out_txt_path) as f:\n",
    "    lines = f.readlines()\n",
    "\n",
    "country_list = [\"Tanzania\", \"Kenya\", \"Malawi\", \"Zambia\", \"Uganda\", \"Swaziland\"]\n",
    "\n",
    "start_phrase = [\"Sultan Fatima binti Muhammad Mkubwa\\n\", \"PEACE AND SECURITY\\n\", \"Tanzania 1711 Kiswahili\\n\"]\n",
    "\n",
    "for i in range(len(lines)-3):\n",
    "    if lines[i:i+3] == start_phrase:\n",
    "        print(\"Start Index is\", i)\n",
    "        start_index = i\n",
    "\n",
    "lines = lines[start_index - 5:]\n",
    "lines = [i for i in lines if not i==\"\\n\"]\n",
    "\n",
    "count = 0\n",
    "for i in range(len(lines)-2):\n",
    "        \n",
    "    # Checks to make sure the year is between 1700 and 2099\n",
    "    year_check.append(re.search(r'\\b(17[0-9][0-9]|18[0-9][0-9]|19[0-9][0-9]|20[0-1][0-9])\\b', lines[i]))\n",
    "    \n",
    "    if year_check:\n",
    "        \n",
    "        contains_country = []\n",
    "        for country in country_list:\n",
    "            if country in lines[i]:\n",
    "                contains_country.append(True)\n",
    "            else:\n",
    "                contains_country.append(False)\n",
    "\n",
    "        if any(contains_country):\n",
    "            print(contains_country)\n",
    "            count += 1\n",
    "            print(lines[i])\n",
    "\n",
    "    # if lines[i-1] == \"\\n\" or \"\\x0c\" in lines[i-1]:\n",
    "        \n",
    "    #     # Checks to make sure the year is between 1700 and 2099\n",
    "    #     year_check = []\n",
    "    #     for line in lines[i+1:i+7]:\n",
    "    #         year_check.append(re.search(r'\\b(17[0-9][0-9]|18[0-9][0-9]|19[0-9][0-9]|20[0-1][0-9])\\b', line))\n",
    "        \n",
    "    #     if any(year_check):\n",
    "            \n",
    "    #         contains_country = []\n",
    "    #         for country in country_list:\n",
    "    #             if country in \" \".join(lines[i:i+7]):\n",
    "    #                 contains_country.append(True)\n",
    "    #             else:\n",
    "    #                 contains_country.append(False)\n",
    "\n",
    "    #         if \"\\n\" in lines[i+2:i+4] and any(contains_country):\n",
    "    #             count += 1\n",
    "    #             print(lines[i:i+6])\n",
    "    \n",
    "    if count > 10:\n",
    "        break"
   ]
  },
  {
   "cell_type": "code",
   "execution_count": null,
   "metadata": {},
   "outputs": [],
   "source": []
  },
  {
   "cell_type": "code",
   "execution_count": null,
   "metadata": {},
   "outputs": [],
   "source": []
  }
 ],
 "metadata": {
  "kernelspec": {
   "display_name": "Science",
   "language": "python",
   "name": "python3"
  },
  "language_info": {
   "codemirror_mode": {
    "name": "ipython",
    "version": 3
   },
   "file_extension": ".py",
   "mimetype": "text/x-python",
   "name": "python",
   "nbconvert_exporter": "python",
   "pygments_lexer": "ipython3",
   "version": "3.10.6"
  },
  "vscode": {
   "interpreter": {
    "hash": "a94132495860d142598aaea285fc060a9e1832a45151c3a0d158e377765afe23"
   }
  }
 },
 "nbformat": 4,
 "nbformat_minor": 2
}
