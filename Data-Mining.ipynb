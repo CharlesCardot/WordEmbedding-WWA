{
 "cells": [
  {
   "attachments": {},
   "cell_type": "markdown",
   "metadata": {},
   "source": [
    "## Women Writing Africa, Data Mining Process"
   ]
  },
  {
   "cell_type": "code",
   "execution_count": 2,
   "metadata": {},
   "outputs": [],
   "source": [
    "import re\n",
    "import os\n",
    "\n",
    "import numpy as np\n",
    "import utils as ut\n",
    "import pandas as pd\n",
    "\n",
    "from pathlib import Path\n",
    "from importlib import reload"
   ]
  },
  {
   "attachments": {},
   "cell_type": "markdown",
   "metadata": {},
   "source": [
    "- Convert PDF to txt document"
   ]
  },
  {
   "cell_type": "code",
   "execution_count": 3,
   "metadata": {},
   "outputs": [],
   "source": [
    "pdf_path = Path(\"Datasets\") / \"women writing africa eastern region.pdf\"\n",
    "out_txt_path = Path(\"Datasets\") / \"women writing africa eastern region.txt\""
   ]
  },
  {
   "cell_type": "code",
   "execution_count": null,
   "metadata": {},
   "outputs": [],
   "source": [
    "# Only needs to be run once\n",
    "reload(ut)\n",
    "ut.pdftotxt(pdf_path, out_txt_path, progress_updates=True)"
   ]
  },
  {
   "attachments": {},
   "cell_type": "markdown",
   "metadata": {},
   "source": [
    "## Parse txt document\n",
    "\n",
    "Goals:\n",
    "- Identify content pattern, ex: (Author Name -> Title -> Country, Year, Language) precedes all content blocks\n",
    "- Extract individual documents, including forewards\n",
    "- Devise method for removing forwards\n",
    "- Create a document database of Metadata: Content\n",
    "\n",
    "Extraction pattern examples:\n",
    "\n",
    "```\n",
    "1.\n",
    "Siti binti Saad\n",
    "FOUR SONGS\n",
    "Tanzania 1920s Kiswahili\n",
    "\n",
    "2.\n",
    "Nellie Grant\n",
    "\n",
    "LETTERS FROM AFRICA TO A DAUGHTER\n",
    "IN ENGLAND\n",
    "\n",
    "Kenya 1939-1963 English\n",
    "```"
   ]
  },
  {
   "cell_type": "code",
   "execution_count": 4,
   "metadata": {},
   "outputs": [
    {
     "name": "stdout",
     "output_type": "stream",
     "text": [
      "Start Index is 4535\n",
      "End Index is 23579\n"
     ]
    }
   ],
   "source": [
    "reload(ut)\n",
    "with open(out_txt_path) as f:\n",
    "    lines = f.readlines()\n",
    "\n",
    "country_list = [\"Tanzania\", \"Kenya\", \"Malawi\", \"Zambia\", \"Uganda\", \"Swaziland\"]\n",
    "\n",
    "start_phrase = [\"Sultan Fatima binti Muhammad Mkubwa\\n\", \"PEACE AND SECURITY\\n\", \"Tanzania 1711 Kiswahili\\n\"]\n",
    "end_phrase = [\"CONTRIBUTORS\\n\", \"\\n\", \"EDITORS\\n\", \"\\n\"]\n",
    "\n",
    "for i in range(len(lines)-3):\n",
    "    if lines[i:i+3] == start_phrase:\n",
    "        print(\"Start Index is\", i)\n",
    "        start_index = i\n",
    "    if lines[i:i+4] == end_phrase:\n",
    "        print(\"End Index is\", i)\n",
    "        end_index = i\n",
    "lines = lines[start_index - 10:end_index-3]\n",
    "\n",
    "marker_string_indices = []\n",
    "for i in range(len(lines)-2):\n",
    "        \n",
    "    # Checks to see if string contains a year between 1700 and 2099\n",
    "    year_check = ut.contains_year(lines[i], year_min=\"1600\", year_max=\"2099\")\n",
    "    \n",
    "    if year_check:\n",
    "        \n",
    "        # Checks to see if string contains an approved country name\n",
    "        contains_country = []\n",
    "        for country in country_list:\n",
    "            if country in lines[i]:\n",
    "                contains_country.append(True)\n",
    "            else:\n",
    "                contains_country.append(False)\n",
    "\n",
    "        if any(contains_country):\n",
    "            \n",
    "            # Checks to make sure string has appropriate number of words\n",
    "            if 2 < len(lines[i].split()) < 6:\n",
    "                marker_string_indices.append(i)"
   ]
  },
  {
   "attachments": {},
   "cell_type": "markdown",
   "metadata": {},
   "source": [
    "## Parse into Header, Chunk Foreward, and Chunk Content"
   ]
  },
  {
   "cell_type": "code",
   "execution_count": 5,
   "metadata": {},
   "outputs": [
    {
     "name": "stdout",
     "output_type": "stream",
     "text": [
      "Start Index is 4535\n",
      "End Index is 23579\n"
     ]
    }
   ],
   "source": [
    "reload(ut)\n",
    "with open(out_txt_path) as f:\n",
    "    lines = f.readlines()\n",
    "\n",
    "country_list = [\"Tanzania\", \"Kenya\", \"Malawi\", \"Zambia\", \"Uganda\", \"Swaziland\"]\n",
    "\n",
    "start_phrase = [\"Sultan Fatima binti Muhammad Mkubwa\\n\", \"PEACE AND SECURITY\\n\", \"Tanzania 1711 Kiswahili\\n\"]\n",
    "end_phrase = [\"CONTRIBUTORS\\n\", \"\\n\", \"EDITORS\\n\", \"\\n\"]\n",
    "\n",
    "for i in range(len(lines)-3):\n",
    "    if lines[i:i+3] == start_phrase:\n",
    "        print(\"Start Index is\", i)\n",
    "        start_index = i\n",
    "    if lines[i:i+4] == end_phrase:\n",
    "        print(\"End Index is\", i)\n",
    "        end_index = i\n",
    "\n",
    "lines = lines[start_index - 5:end_index-3]\n",
    "for key, val in enumerate(lines):\n",
    "    if \"\\n\" in val and len(val) < 6:\n",
    "        lines[key] = \"\\n\"\n",
    "\n",
    "marker_string_indices = []\n",
    "for i in range(len(lines)-2):\n",
    "        \n",
    "    # Checks to see if string contains a year between 1600 and 2099\n",
    "    year_check = ut.contains_year(lines[i], year_min=\"1600\", year_max=\"2099\")\n",
    "    \n",
    "    if year_check:\n",
    "        \n",
    "        # Checks to see if string contains an approved country name\n",
    "        contains_country = []\n",
    "        for country in country_list:\n",
    "            if country in lines[i]:\n",
    "                contains_country.append(True)\n",
    "            else:\n",
    "                contains_country.append(False)\n",
    "\n",
    "        if any(contains_country):\n",
    "            \n",
    "            # Checks to make sure string has appropriate number of words\n",
    "            if 2 < len(lines[i].split()) < 6:\n",
    "                marker_string_indices.append(i)\n",
    "\n",
    "headers = []\n",
    "chunk_forewards = []\n",
    "chunk_contents = []\n",
    "marker_string_indices = marker_string_indices\n",
    "for key, index in enumerate(marker_string_indices):\n",
    "    \n",
    "    header_group = lines[index-5:index+1]\n",
    "    header_group = [i if not(\" + \" in i) else \"\\n\" for i in header_group]\n",
    "    \n",
    "    header_group.reverse()\n",
    "\n",
    "    temp = [header_group[0]]\n",
    "    slashn_reached = 0\n",
    "    items_added = 1\n",
    "\n",
    "    header_group = ut.header_parse(header_group)\n",
    "    header_group.reverse()\n",
    "    headers.append(header_group)\n",
    "\n",
    "    if key == len(marker_string_indices) - 1:\n",
    "        chunk = lines[index+1:]\n",
    "    else:\n",
    "        chunk = lines[index+1:marker_string_indices[key+1]+1]\n",
    "\n",
    "    chunk_foreward, chunk_content = ut.chunk_parse_namebased(chunk)\n",
    "    if chunk_foreward == \"FAILURE_namebased\":\n",
    "        chunk_foreward, chunk_content = ut.chunk_parse_newlinebased(chunk)\n",
    "        chunk_forewards.append(chunk_foreward)\n",
    "        chunk_contents.append(chunk_content)\n",
    "    else:\n",
    "        chunk_forewards.append(chunk_foreward)\n",
    "        chunk_contents.append(chunk_content)\n",
    "    \n",
    "\n"
   ]
  },
  {
   "cell_type": "code",
   "execution_count": 6,
   "metadata": {},
   "outputs": [
    {
     "data": {
      "text/html": [
       "<div>\n",
       "<style scoped>\n",
       "    .dataframe tbody tr th:only-of-type {\n",
       "        vertical-align: middle;\n",
       "    }\n",
       "\n",
       "    .dataframe tbody tr th {\n",
       "        vertical-align: top;\n",
       "    }\n",
       "\n",
       "    .dataframe thead th {\n",
       "        text-align: right;\n",
       "    }\n",
       "</style>\n",
       "<table border=\"1\" class=\"dataframe\">\n",
       "  <thead>\n",
       "    <tr style=\"text-align: right;\">\n",
       "      <th></th>\n",
       "      <th>headers</th>\n",
       "      <th>chunk_forewards</th>\n",
       "      <th>chunk_contents</th>\n",
       "    </tr>\n",
       "  </thead>\n",
       "  <tbody>\n",
       "    <tr>\n",
       "      <th>0</th>\n",
       "      <td>[Sultan Fatima binti Muhammad Mkubwa\\n, PEACE ...</td>\n",
       "      <td>[\\n, Sultan Fatima binti Muhammad Mkubwa was t...</td>\n",
       "      <td>[\\n, PEACE AND SECURITY ¢ 71\\n, \\n, \\n, \\n, In...</td>\n",
       "    </tr>\n",
       "    <tr>\n",
       "      <th>1</th>\n",
       "      <td>[Mwana Kupona binti Msham\\n, From A MOTHER’S A...</td>\n",
       "      <td>[\\n, Mwana Kupona binti Msham was born in 1810...</td>\n",
       "      <td>[\\n, \\n, \\n, 1. Come near, my dear daughter,\\n...</td>\n",
       "    </tr>\n",
       "    <tr>\n",
       "      <th>2</th>\n",
       "      <td>[Emily Ruete, also known as\\n, Princess Salma ...</td>\n",
       "      <td>[\\n, —- Cd aa a ET i Ng\\n, : seo ~— Tt = 1m\\n,...</td>\n",
       "      <td>[\\n, \\n, \\n, \\n, As long as the child does not...</td>\n",
       "    </tr>\n",
       "    <tr>\n",
       "      <th>3</th>\n",
       "      <td>[Martha Thabi\\n, My Gop, WHY HAVE YOU FORSAKEN...</td>\n",
       "      <td>[\\n, Martha Thabi was born about 1870 and was ...</td>\n",
       "      <td>[\\n, 86 + THE EIGHTEENTH AND NINETEENTH CENTUR...</td>\n",
       "    </tr>\n",
       "    <tr>\n",
       "      <th>4</th>\n",
       "      <td>[Jessie Nyagondwe\\n, LET NoT Your HEART BE TRO...</td>\n",
       "      <td>[\\n, Jessie Nyagondwe, the composer of this hy...</td>\n",
       "      <td>[\\n, Let not your heart be troubled\\n, By all ...</td>\n",
       "    </tr>\n",
       "    <tr>\n",
       "      <th>...</th>\n",
       "      <td>...</td>\n",
       "      <td>...</td>\n",
       "      <td>...</td>\n",
       "    </tr>\n",
       "    <tr>\n",
       "      <th>108</th>\n",
       "      <td>[Ruth Meena\\n, THE FEMALE HUSBAND\\n, Tanzania ...</td>\n",
       "      <td>[\\n, Ruth Meena was born in 1946 and received ...</td>\n",
       "      <td>[\\n, spending priorities on men, women, and ch...</td>\n",
       "    </tr>\n",
       "    <tr>\n",
       "      <th>109</th>\n",
       "      <td>[Martha Qorro\\n, LANGUAGE IN TANZANIA\\n, - Tan...</td>\n",
       "      <td>[\\n, Martha Qorro is a prominent lobbyist for ...</td>\n",
       "      <td>[\\n, \\n, \\n, It has been remarked that the sta...</td>\n",
       "    </tr>\n",
       "    <tr>\n",
       "      <th>110</th>\n",
       "      <td>[Monica Arac de Nyeko\\n, IN THE STARS\\n, Ugand...</td>\n",
       "      <td>[Born in 1979, Monica Arac de Nyeko comes from...</td>\n",
       "      <td>[\\n, \\n, \\n, Where does your hope or security ...</td>\n",
       "    </tr>\n",
       "    <tr>\n",
       "      <th>111</th>\n",
       "      <td>[Margaret Wangut Mwema\\n, THE STORY OF WACU\\n,...</td>\n",
       "      <td>[\\n, In this version of the tale of Wacu, an i...</td>\n",
       "      <td>[\\n, \\n, \\n, Once upon a time there lived a wo...</td>\n",
       "    </tr>\n",
       "    <tr>\n",
       "      <th>112</th>\n",
       "      <td>[Wangari Maathai\\n, NOBEL PEACE PRIZE LECTURE\\...</td>\n",
       "      <td>[\\n, Wangari Maathai is the first feminist, th...</td>\n",
       "      <td>[\\n, \\n, \\n, NOBEL PEACE PRIZE LECTURE + 449\\n...</td>\n",
       "    </tr>\n",
       "  </tbody>\n",
       "</table>\n",
       "<p>113 rows × 3 columns</p>\n",
       "</div>"
      ],
      "text/plain": [
       "                                               headers  ...                                     chunk_contents\n",
       "0    [Sultan Fatima binti Muhammad Mkubwa\\n, PEACE ...  ...  [\\n, PEACE AND SECURITY ¢ 71\\n, \\n, \\n, \\n, In...\n",
       "1    [Mwana Kupona binti Msham\\n, From A MOTHER’S A...  ...  [\\n, \\n, \\n, 1. Come near, my dear daughter,\\n...\n",
       "2    [Emily Ruete, also known as\\n, Princess Salma ...  ...  [\\n, \\n, \\n, \\n, As long as the child does not...\n",
       "3    [Martha Thabi\\n, My Gop, WHY HAVE YOU FORSAKEN...  ...  [\\n, 86 + THE EIGHTEENTH AND NINETEENTH CENTUR...\n",
       "4    [Jessie Nyagondwe\\n, LET NoT Your HEART BE TRO...  ...  [\\n, Let not your heart be troubled\\n, By all ...\n",
       "..                                                 ...  ...                                                ...\n",
       "108  [Ruth Meena\\n, THE FEMALE HUSBAND\\n, Tanzania ...  ...  [\\n, spending priorities on men, women, and ch...\n",
       "109  [Martha Qorro\\n, LANGUAGE IN TANZANIA\\n, - Tan...  ...  [\\n, \\n, \\n, It has been remarked that the sta...\n",
       "110  [Monica Arac de Nyeko\\n, IN THE STARS\\n, Ugand...  ...  [\\n, \\n, \\n, Where does your hope or security ...\n",
       "111  [Margaret Wangut Mwema\\n, THE STORY OF WACU\\n,...  ...  [\\n, \\n, \\n, Once upon a time there lived a wo...\n",
       "112  [Wangari Maathai\\n, NOBEL PEACE PRIZE LECTURE\\...  ...  [\\n, \\n, \\n, NOBEL PEACE PRIZE LECTURE + 449\\n...\n",
       "\n",
       "[113 rows x 3 columns]"
      ]
     },
     "metadata": {},
     "output_type": "display_data"
    }
   ],
   "source": [
    "from IPython.display import display\n",
    "temp = np.array([headers, chunk_forewards, chunk_contents], dtype=object).T\n",
    "df = pd.DataFrame(temp, columns=[\"headers\", \"chunk_forewards\", \"chunk_contents\"])\n",
    "display(df)"
   ]
  },
  {
   "cell_type": "code",
   "execution_count": 11,
   "metadata": {},
   "outputs": [
    {
     "name": "stdout",
     "output_type": "stream",
     "text": [
      "1 am a man\n",
      "wisdom laboriously acquired here, 1 am now better off than the others over\n",
      "\n",
      "wisdom laboriously acquired here, 1 am now better off than the others over\n",
      "\n",
      "there. That I have never been moré deceived and swindled than in the time of\n",
      "\n",
      "there. That I have never been moré deceived and swindled than in the time of\n",
      "\n"
     ]
    }
   ],
   "source": [
    "from ocrfixr import spellcheck\n",
    "# for h in headers[0:5]:\n",
    "#     print(h)\n",
    "\n",
    "print(spellcheck(\"1 am a man\").fix())\n",
    "\n",
    "for line in chunk_contents[2][-10:-8]:\n",
    "    print(line)\n",
    "    print(spellcheck(line).fix())"
   ]
  },
  {
   "cell_type": "code",
   "execution_count": null,
   "metadata": {},
   "outputs": [],
   "source": []
  }
 ],
 "metadata": {
  "kernelspec": {
   "display_name": "Science",
   "language": "python",
   "name": "python3"
  },
  "language_info": {
   "codemirror_mode": {
    "name": "ipython",
    "version": 3
   },
   "file_extension": ".py",
   "mimetype": "text/x-python",
   "name": "python",
   "nbconvert_exporter": "python",
   "pygments_lexer": "ipython3",
   "version": "3.10.6 | packaged by conda-forge | (main, Aug 22 2022, 20:29:51) [MSC v.1929 64 bit (AMD64)]"
  },
  "vscode": {
   "interpreter": {
    "hash": "a94132495860d142598aaea285fc060a9e1832a45151c3a0d158e377765afe23"
   }
  }
 },
 "nbformat": 4,
 "nbformat_minor": 2
}
